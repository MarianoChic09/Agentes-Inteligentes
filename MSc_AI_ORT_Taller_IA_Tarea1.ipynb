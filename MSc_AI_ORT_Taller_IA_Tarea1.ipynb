{
  "nbformat": 4,
  "nbformat_minor": 0,
  "metadata": {
    "colab": {
      "provenance": [],
      "authorship_tag": "ABX9TyOf5WkjutPfDpiUEytVwaNu",
      "include_colab_link": true
    },
    "kernelspec": {
      "name": "python3",
      "display_name": "Python 3"
    },
    "language_info": {
      "name": "python"
    }
  },
  "cells": [
    {
      "cell_type": "markdown",
      "metadata": {
        "id": "view-in-github",
        "colab_type": "text"
      },
      "source": [
        "<a href=\"https://colab.research.google.com/github/MarianoChic09/Agentes-Inteligentes/blob/main/MSc_AI_ORT_Taller_IA_Tarea1.ipynb\" target=\"_parent\"><img src=\"https://colab.research.google.com/assets/colab-badge.svg\" alt=\"Open In Colab\"/></a>"
      ]
    },
    {
      "cell_type": "markdown",
      "source": [
        "# Taller de Deep Learning - Tarea 1\n",
        "\n",
        "Introducción:\n",
        "El objetivo de esta tarea es evaluar su conocimiento sobre Deep Learning aplicado a un caso de uso real. En particular, vamos a evaluar la performance de sus modelos en una tarea de clasificación de escenas.\n",
        "\n",
        "Dataset:\n",
        "El dataset a ser utilizado consiste de más de 13.000 imágenes de entrenamiento agrupadas\n",
        "en 6 posibles “escenarios”: edificios, bosques, glaciares, montañas, océanos, calles.\n",
        "Pueden descargarlo en el siguiente link.\n",
        "El mismo contiene dos carpetas (train_set y test_set) donde las imágenes están\n",
        "agrupadas en sub carpetas de acuerdo a su categoría."
      ],
      "metadata": {
        "id": "ljHYjlFHIIfP"
      }
    },
    {
      "cell_type": "code",
      "execution_count": 1,
      "metadata": {
        "id": "x9nJFwzcIE3x",
        "colab": {
          "base_uri": "https://localhost:8080/"
        },
        "outputId": "b4dda52b-3e8f-456e-b66a-1e4287e99cff"
      },
      "outputs": [
        {
          "output_type": "stream",
          "name": "stdout",
          "text": [
            "Mounted at /content/drive\n"
          ]
        }
      ],
      "source": [
        "from google.colab import drive\n",
        "drive.mount(\"/content/drive\")"
      ]
    },
    {
      "cell_type": "code",
      "source": [
        "# ! cp \"/content/drive/My Drive/data/scene_classification.zip\" .\n",
        "# ! unzip -q scene_classification.zip\n",
        "# ! rm scene_classification.zip"
      ],
      "metadata": {
        "colab": {
          "base_uri": "https://localhost:8080/"
        },
        "id": "Yh3ZiKw2IgAy",
        "outputId": "7fd21629-00d2-447e-b029-3195f77ae80b"
      },
      "execution_count": 2,
      "outputs": [
        {
          "output_type": "stream",
          "name": "stdout",
          "text": [
            "cp: cannot stat '/content/drive/My Drive/data/scene_classification.zip': No such file or directory\n",
            "unzip:  cannot find or open scene_classification.zip, scene_classification.zip.zip or scene_classification.zip.ZIP.\n",
            "rm: cannot remove 'scene_classification.zip': No such file or directory\n"
          ]
        }
      ]
    },
    {
      "cell_type": "code",
      "source": [
        "%cd \"/content/drive/MyDrive/Colab Notebooks/Datasets/scene_classification\"\n",
        "%ls"
      ],
      "metadata": {
        "colab": {
          "base_uri": "https://localhost:8080/"
        },
        "id": "lMmPVA42JUvo",
        "outputId": "e67ae169-5c2d-4d80-c70c-a737c831189f"
      },
      "execution_count": 3,
      "outputs": [
        {
          "output_type": "stream",
          "name": "stdout",
          "text": [
            "/content/drive/MyDrive/Colab Notebooks/Datasets/scene_classification\n",
            "\u001b[0m\u001b[01;34mtest_set\u001b[0m/  \u001b[01;34mtrain_set\u001b[0m/\n"
          ]
        }
      ]
    },
    {
      "cell_type": "markdown",
      "source": [
        "## Cargando el dataset"
      ],
      "metadata": {
        "id": "RmsVwGZIIlEu"
      }
    },
    {
      "cell_type": "code",
      "source": [
        "import os\n",
        "\n",
        "print(\"Directorio actual:\", os.getcwd())\n",
        "print(\"\\nContenido de 'train_set':\", os.listdir(\"train_set\"))"
      ],
      "metadata": {
        "colab": {
          "base_uri": "https://localhost:8080/"
        },
        "id": "QEZsuLMcLhcy",
        "outputId": "d9d05705-303d-4ac4-f74a-5b97b655c3e2"
      },
      "execution_count": 4,
      "outputs": [
        {
          "output_type": "stream",
          "name": "stdout",
          "text": [
            "Directorio actual: /content/drive/MyDrive/Colab Notebooks/Datasets/scene_classification\n",
            "\n",
            "Contenido de 'train_set': ['street', 'forest', 'mountain', 'buildings', 'glacier', 'sea']\n"
          ]
        }
      ]
    },
    {
      "cell_type": "code",
      "source": [
        "# Reemplaza 'class_1' con el nombre de uno de tus subdirectorios.\n",
        "print(\"Contenido de 'train_set/buildings':\", os.listdir(\"train_set/buildings\"))"
      ],
      "metadata": {
        "colab": {
          "base_uri": "https://localhost:8080/"
        },
        "id": "KtJuaoapLkQ-",
        "outputId": "966ca1c4-d5e3-4825-c45a-f474d117017f"
      },
      "execution_count": 5,
      "outputs": [
        {
          "output_type": "stream",
          "name": "stdout",
          "text": [
            "Contenido de 'train_set/buildings': ['19513.jpg', '19447.jpg', '19456.jpg', '1959.jpg', '19460.jpg', '1954.jpg', '19584.jpg', '1964.jpg', '19638.jpg', '19608.jpg', '19455.jpg', '19526.jpg', '19416.jpg', '19556.jpg', '19623.jpg', '19446.jpg', '19407.jpg', '1943.jpg', '19466.jpg', '2059.jpg', '2099.jpg', '1979.jpg', '2170.jpg', '19901.jpg', '19778.jpg', '19969.jpg', '19830.jpg', '19923.jpg', '20048.jpg', '19913.jpg', '2083.jpg', '19895.jpg', '19649.jpg', '19848.jpg', '2076.jpg', '19976.jpg', '2136.jpg', '19728.jpg', '19806.jpg', '19963.jpg', '19996.jpg', '19855.jpg', '20027.jpg', '1977.jpg', '20054.jpg', '20011.jpg', '19713.jpg', '2144.jpg', '19802.jpg', '2002.jpg', '19915.jpg', '19701.jpg', '19896.jpg', '2038.jpg', '19674.jpg', '19689.jpg', '2108.jpg', '19973.jpg', '19661.jpg', '2171.jpg', '19776.jpg', '19846.jpg', '19910.jpg', '2158.jpg', '19816.jpg', '19874.jpg', '19789.jpg', '20017.jpg', '2114.jpg', '2088.jpg', '19666.jpg', '19722.jpg', '2069.jpg', '19800.jpg', '19735.jpg', '19978.jpg', '19782.jpg', '2041.jpg', '2043.jpg', '19815.jpg', '2104.jpg', '19955.jpg', '19668.jpg', '2406.jpg', '2430.jpg', '2202.jpg', '2362.jpg', '2193.jpg', '2369.jpg', '2185.jpg', '2342.jpg', '2285.jpg', '2273.jpg', '2418.jpg', '2209.jpg', '2179.jpg', '2264.jpg', '235.jpg', '2263.jpg', '2385.jpg', '2236.jpg', '2332.jpg', '2203.jpg', '2182.jpg', '246.jpg', '2414.jpg', '2204.jpg', '230.jpg', '2356.jpg', '2252.jpg', '2176.jpg', '2300.jpg', '2319.jpg', '2238.jpg', '2426.jpg', '218.jpg', '2880.jpg', '2587.jpg', '2802.jpg', '2713.jpg', '2717.jpg', '2463.jpg', '2688.jpg', '2874.jpg', '2817.jpg', '2871.jpg', '2602.jpg', '2639.jpg', '2710.jpg', '286.jpg', '2670.jpg', '265.jpg', '2705.jpg', '2827.jpg', '2790.jpg', '2648.jpg', '2823.jpg', '2775.jpg', '2796.jpg', '2469.jpg', '2809.jpg', '2747.jpg', '2612.jpg', '2741.jpg', '263.jpg', '2691.jpg', '2735.jpg', '266.jpg', '2770.jpg', '2733.jpg', '2633.jpg', '2636.jpg', '2495.jpg', '2678.jpg', '2558.jpg', '2575.jpg', '2749.jpg', '2815.jpg', '2586.jpg', '2478.jpg', '2607.jpg', '2743.jpg', '2568.jpg', '2653.jpg', '2697.jpg', '256.jpg', '2662.jpg', '2850.jpg', '2808.jpg', '2643.jpg', '2738.jpg', '2847.jpg', '3056.jpg', '3000.jpg', '3064.jpg', '3051.jpg', '2887.jpg', '2922.jpg', '3091.jpg', '3082.jpg', '3067.jpg', '2928.jpg', '2948.jpg', '3017.jpg', '2936.jpg', '2985.jpg', '2997.jpg', '3086.jpg', '3020.jpg', '3028.jpg', '3095.jpg', '2960.jpg', '2954.jpg', '309.jpg', '2999.jpg', '2951.jpg', '304.jpg', '292.jpg', '2882.jpg', '2908.jpg', '3035.jpg', '2961.jpg', '3316.jpg', '3145.jpg', '3611.jpg', '3136.jpg', '3572.jpg', '3359.jpg', '343.jpg', '3540.jpg', '3524.jpg', '3245.jpg', '3170.jpg', '3253.jpg', '3745.jpg', '315.jpg', '3151.jpg', '3364.jpg', '3596.jpg', '3126.jpg', '3499.jpg', '3209.jpg', '3142.jpg', '3449.jpg', '3420.jpg', '3699.jpg', '3567.jpg', '3397.jpg', '3645.jpg', '3391.jpg', '3743.jpg', '3488.jpg', '3667.jpg', '3328.jpg', '3457.jpg', '318.jpg', '3670.jpg', '3506.jpg', '3669.jpg', '321.jpg', '3528.jpg', '3560.jpg', '3257.jpg', '3336.jpg', '3263.jpg', '3251.jpg', '3216.jpg', '3775.jpg', '3297.jpg', '3523.jpg', '3193.jpg', '3481.jpg', '3387.jpg', '3579.jpg', '3638.jpg', '3310.jpg', '3768.jpg', '3113.jpg', '3477.jpg', '3339.jpg', '3395.jpg', '3323.jpg', '3664.jpg', '3722.jpg', '367.jpg', '3207.jpg', '3255.jpg', '3813.jpg', '3931.jpg', '3844.jpg', '3912.jpg', '390.jpg', '3825.jpg', '3792.jpg', '3921.jpg', '3829.jpg', '3920.jpg', '3822.jpg', '3798.jpg', '3869.jpg', '392.jpg', '3888.jpg', '3928.jpg', '3831.jpg', '3956.jpg', '3955.jpg', '3878.jpg', '3856.jpg', '3929.jpg', '3905.jpg', '3913.jpg', '3809.jpg', '4398.jpg', '4098.jpg', '4156.jpg', '4075.jpg', '4130.jpg', '440.jpg', '4016.jpg', '4082.jpg', '4.jpg', '4269.jpg', '4267.jpg', '3971.jpg', '412.jpg', '4458.jpg', '4337.jpg', '4057.jpg', '3992.jpg', '401.jpg', '4152.jpg', '4327.jpg', '4351.jpg', '3989.jpg', '4141.jpg', '4463.jpg', '4466.jpg', '4469.jpg', '4459.jpg', '4294.jpg', '4100.jpg', '4233.jpg', '4332.jpg', '4053.jpg', '4290.jpg', '4392.jpg', '4129.jpg', '4158.jpg', '4365.jpg', '426.jpg', '4178.jpg', '4012.jpg', '3993.jpg', '4341.jpg', '4161.jpg', '3991.jpg', '4000.jpg', '4259.jpg', '4359.jpg', '4304.jpg', '4067.jpg', '4060.jpg', '4253.jpg', '4457.jpg', '4042.jpg', '4244.jpg', '4455.jpg', '4338.jpg', '422.jpg', '4160.jpg', '4079.jpg', '4239.jpg', '4440.jpg', '4002.jpg', '4139.jpg', '4630.jpg', '4481.jpg', '4571.jpg', '4621.jpg', '4620.jpg', '4631.jpg', '4520.jpg', '4560.jpg', '4479.jpg', '4517.jpg', '451.jpg', '4557.jpg', '4506.jpg', '4544.jpg', '4623.jpg', '4598.jpg', '4589.jpg', '4634.jpg', '4486.jpg', '4593.jpg', '4600.jpg', '4573.jpg', '4551.jpg', '4534.jpg', '463.jpg', '4500.jpg', '4558.jpg', '448.jpg', '5269.jpg', '4916.jpg', '5186.jpg', '5384.jpg', '47.jpg', '4797.jpg', '5160.jpg', '53.jpg', '5302.jpg', '5059.jpg', '5025.jpg', '4806.jpg', '4686.jpg', '5358.jpg', '495.jpg', '506.jpg', '505.jpg', '4715.jpg', '4979.jpg', '5193.jpg', '5292.jpg', '5324.jpg', '5343.jpg', '5440.jpg', '5048.jpg', '5337.jpg', '4796.jpg', '4860.jpg', '5152.jpg', '488.jpg', '508.jpg', '5111.jpg', '4878.jpg', '4906.jpg', '4667.jpg', '5277.jpg', '5188.jpg', '5340.jpg', '4959.jpg', '4988.jpg', '526.jpg', '5079.jpg', '4770.jpg', '4821.jpg', '5053.jpg', '4961.jpg', '4832.jpg', '5037.jpg', '5206.jpg', '4774.jpg', '5331.jpg', '5114.jpg', '5092.jpg', '5190.jpg', '5327.jpg', '4818.jpg', '4812.jpg', '5424.jpg', '4795.jpg', '5291.jpg', '5313.jpg', '4895.jpg', '5170.jpg', '4748.jpg', '5069.jpg', '4932.jpg', '5285.jpg', '5652.jpg', '5504.jpg', '5604.jpg', '5695.jpg', '5463.jpg', '5638.jpg', '5568.jpg', '55.jpg', '5563.jpg', '5444.jpg', '5658.jpg', '5656.jpg', '5543.jpg', '5614.jpg', '5452.jpg', '5630.jpg', '5633.jpg', '5628.jpg', '5617.jpg', '5583.jpg', '5650.jpg', '5477.jpg', '5451.jpg', '5661.jpg', '5579.jpg', '5533.jpg', '5546.jpg', '5557.jpg', '5535.jpg', '5866.jpg', '5791.jpg', '5952.jpg', '5735.jpg', '5817.jpg', '5761.jpg', '5798.jpg', '5741.jpg', '5743.jpg', '5788.jpg', '5958.jpg', '5712.jpg', '5955.jpg', '578.jpg', '5696.jpg', '5919.jpg', '5852.jpg', '5820.jpg', '5831.jpg', '586.jpg', '5883.jpg', '5770.jpg', '5965.jpg', '5708.jpg', '5805.jpg', '5927.jpg', '5947.jpg', '595.jpg', '5918.jpg', '6073.jpg', '6037.jpg', '6080.jpg', '612.jpg', '6143.jpg', '6075.jpg', '5998.jpg', '6045.jpg', '6033.jpg', '6054.jpg', '6046.jpg', '6123.jpg', '6117.jpg', '5971.jpg', '6028.jpg', '6024.jpg', '6014.jpg', '6119.jpg', '6005.jpg', '6105.jpg', '6505.jpg', '6285.jpg', '6235.jpg', '6379.jpg', '6190.jpg', '6340.jpg', '6305.jpg', '6355.jpg', '6205.jpg', '6281.jpg', '6503.jpg', '6420.jpg', '6315.jpg', '6213.jpg', '6175.jpg', '6187.jpg', '6280.jpg', '6343.jpg', '6313.jpg', '6473.jpg', '6201.jpg', '6479.jpg', '6266.jpg', '6328.jpg', '6346.jpg', '6526.jpg', '6232.jpg', '6383.jpg', '6525.jpg', '6394.jpg', '635.jpg', '6238.jpg', '6231.jpg', '6509.jpg', '6259.jpg', '6326.jpg', '6290.jpg', '6524.jpg', '6386.jpg', '6436.jpg', '6265.jpg', '6429.jpg', '6414.jpg', '618.jpg', '6233.jpg', '6360.jpg', '6339.jpg', '617.jpg', '6331.jpg', '6271.jpg', '6417.jpg', '6212.jpg', '6718.jpg', '6605.jpg', '6884.jpg', '6702.jpg', '6871.jpg', '6780.jpg', '6608.jpg', '6535.jpg', '6890.jpg', '6894.jpg', '6773.jpg', '6537.jpg', '6699.jpg', '6685.jpg', '6587.jpg', '6720.jpg', '6747.jpg', '6755.jpg', '6748.jpg', '6759.jpg', '6710.jpg', '6641.jpg', '6757.jpg', '6763.jpg', '6700.jpg', '6814.jpg', '6648.jpg', '6767.jpg', '66.jpg', '6643.jpg', '6826.jpg', '6629.jpg', '6891.jpg', '6795.jpg', '6684.jpg', '6585.jpg', '6586.jpg', '6673.jpg', '7143.jpg', '7202.jpg', '6909.jpg', '7114.jpg', '7214.jpg', '7091.jpg', '7084.jpg', '6956.jpg', '7138.jpg', '7035.jpg', '7227.jpg', '726.jpg', '7010.jpg', '7229.jpg', '6898.jpg', '703.jpg', '7024.jpg', '7241.jpg', '7258.jpg', '6983.jpg', '7235.jpg', '6958.jpg', '7108.jpg', '7054.jpg', '694.jpg', '7195.jpg', '7065.jpg', '7250.jpg', '7185.jpg', '6961.jpg', '7237.jpg', '6897.jpg', '6927.jpg', '6959.jpg', '7118.jpg', '7168.jpg', '6935.jpg', '7253.jpg', '7228.jpg', '7071.jpg', '6970.jpg', '7171.jpg', '7151.jpg', '6954.jpg', '6903.jpg', '7076.jpg', '721.jpg', '7222.jpg', '7383.jpg', '7328.jpg', '7342.jpg', '7439.jpg', '7443.jpg', '7311.jpg', '7325.jpg', '7382.jpg', '727.jpg', '7276.jpg', '7463.jpg', '7292.jpg', '7418.jpg', '747.jpg', '7262.jpg', '7374.jpg', '7308.jpg', '7361.jpg', '7321.jpg', '7347.jpg', '739.jpg', '7379.jpg', '7357.jpg', '7277.jpg', '7287.jpg', '7455.jpg', '7282.jpg', '7324.jpg', '7267.jpg', '7291.jpg', '742.jpg', '7701.jpg', '7730.jpg', '7959.jpg', '7574.jpg', '7584.jpg', '7703.jpg', '7547.jpg', '7496.jpg', '751.jpg', '7939.jpg', '7822.jpg', '7937.jpg', '789.jpg', '7610.jpg', '7530.jpg', '7542.jpg', '7846.jpg', '7493.jpg', '7630.jpg', '765.jpg', '7994.jpg', '7634.jpg', '7544.jpg', '7531.jpg', '7754.jpg', '7930.jpg', '7856.jpg', '7553.jpg', '7637.jpg', '7755.jpg', '7919.jpg', '7926.jpg', '7593.jpg', '7666.jpg', '775.jpg', '7742.jpg', '7478.jpg', '7807.jpg', '7667.jpg', '752.jpg', '7860.jpg', '7877.jpg', '7890.jpg', '7997.jpg', '7471.jpg', '7998.jpg', '7541.jpg', '7859.jpg', '7491.jpg', '7563.jpg', '7798.jpg', '7562.jpg', '7570.jpg', '7758.jpg', '749.jpg', '7520.jpg', '7636.jpg', '7924.jpg', '7518.jpg', '7498.jpg', '7638.jpg', '772.jpg', '7501.jpg', '7710.jpg', '7891.jpg', '7600.jpg', '7509.jpg', '8238.jpg', '8081.jpg', '8179.jpg', '8132.jpg', '8261.jpg', '8129.jpg', '8302.jpg', '8054.jpg', '8001.jpg', '808.jpg', '8139.jpg', '8093.jpg', '8121.jpg', '8171.jpg', '8159.jpg', '8042.jpg', '810.jpg', '8243.jpg', '8100.jpg', '8114.jpg', '809.jpg', '801.jpg', '8241.jpg', '8271.jpg', '8018.jpg', '8131.jpg', '8151.jpg', '8228.jpg', '8065.jpg', '8292.jpg', '8202.jpg', '8107.jpg', '8683.jpg', '8518.jpg', '8385.jpg', '8752.jpg', '8538.jpg', '8630.jpg', '8357.jpg', '8376.jpg', '8622.jpg', '8513.jpg', '8623.jpg', '8382.jpg', '8444.jpg', '8658.jpg', '8418.jpg', '8525.jpg', '8367.jpg', '8746.jpg', '8619.jpg', '8421.jpg', '8312.jpg', '8748.jpg', '8682.jpg', '8659.jpg', '8713.jpg', '8577.jpg', '8430.jpg', '8380.jpg', '8397.jpg', '8324.jpg', '8604.jpg', '8601.jpg', '835.jpg', '8363.jpg', '8481.jpg', '8542.jpg', '8358.jpg', '8705.jpg', '8431.jpg', '8318.jpg', '8556.jpg', '8639.jpg', '8458.jpg', '869.jpg', '8592.jpg', '864.jpg', '847.jpg', '8475.jpg', '8342.jpg', '8596.jpg', '8602.jpg', '8553.jpg', '8399.jpg', '8390.jpg', '8701.jpg', '8360.jpg', '8366.jpg', '8647.jpg', '8474.jpg', '8723.jpg', '8435.jpg', '8777.jpg', '8824.jpg', '8838.jpg', '8801.jpg', '8813.jpg', '8792.jpg', '8903.jpg', '8797.jpg', '8915.jpg', '8921.jpg', '8786.jpg', '8891.jpg', '8912.jpg', '8896.jpg', '8788.jpg', '8933.jpg', '8948.jpg', '8821.jpg', '8914.jpg', '8897.jpg', '8810.jpg', '8830.jpg', '8878.jpg', '8923.jpg', '8822.jpg', '8843.jpg', '8859.jpg', '878.jpg', '9135.jpg', '9446.jpg', '9112.jpg', '9196.jpg', '9208.jpg', '9173.jpg', '9243.jpg', '9312.jpg', '9364.jpg', '9329.jpg', '9458.jpg', '9018.jpg', '92.jpg', '9037.jpg', '9283.jpg', '9157.jpg', '9369.jpg', '9151.jpg', '9095.jpg', '9353.jpg', '906.jpg', '9217.jpg', '8964.jpg', '9281.jpg', '8985.jpg', '8976.jpg', '9127.jpg', '9355.jpg', '909.jpg', '9202.jpg', '897.jpg', '9241.jpg', '9042.jpg', '9291.jpg', '8966.jpg', '9002.jpg', '9332.jpg', '9410.jpg', '9189.jpg', '9345.jpg', '9191.jpg', '8998.jpg', '9400.jpg', '9059.jpg', '9007.jpg', '9432.jpg', '9404.jpg', '9231.jpg', '9297.jpg', '9117.jpg', '9032.jpg', '9019.jpg', '904.jpg', '9699.jpg', '9656.jpg', '9570.jpg', '9725.jpg', '9637.jpg', '9487.jpg', '9737.jpg', '9680.jpg', '9622.jpg', '968.jpg', '9736.jpg', '9627.jpg', '9520.jpg', '96.jpg', '9673.jpg', '9501.jpg', '9684.jpg', '963.jpg', '9537.jpg', '9527.jpg', '9517.jpg', '9540.jpg', '967.jpg', '9716.jpg', '9578.jpg', '9750.jpg', '9498.jpg', '960.jpg', '9631.jpg', '9526.jpg', '9925.jpg', '9913.jpg', '9929.jpg', '9768.jpg', '9810.jpg', '9807.jpg', '9757.jpg', '993.jpg', '9922.jpg', '9905.jpg', '9862.jpg', '990.jpg', '9899.jpg', '9769.jpg', '9948.jpg', '9785.jpg', '9932.jpg', '9938.jpg', '991.jpg', '9921.jpg', '9821.jpg', '9946.jpg', '9962.jpg', '9762.jpg', '9942.jpg', '9764.jpg', '9918.jpg', '9966.jpg', '9977.jpg', '9811.jpg', '9767.jpg', '9819.jpg', '11601.jpg', '11530.jpg', '11628.jpg', '11523.jpg', '11855.jpg', '11499.jpg', '11622.jpg', '11731.jpg', '11899.jpg', '11929.jpg', '11568.jpg', '11658.jpg', '11795.jpg', '11605.jpg', '11599.jpg', '11808.jpg', '11425.jpg', '11418.jpg', '11788.jpg', '11494.jpg', '11627.jpg', '11594.jpg', '11753.jpg', '11696.jpg', '11910.jpg', '1161.jpg', '11613.jpg', '1204.jpg', '12024.jpg', '11941.jpg', '11990.jpg', '12028.jpg', '12060.jpg', '11937.jpg', '12000.jpg', '12010.jpg', '11945.jpg', '11947.jpg', '11991.jpg', '12058.jpg', '12050.jpg', '11959.jpg', '1201.jpg', '1196.jpg', '11992.jpg', '11961.jpg', '1193.jpg', '11993.jpg', '12042.jpg', '12400.jpg', '12221.jpg', '12232.jpg', '12265.jpg', '12427.jpg', '1220.jpg', '12494.jpg', '12417.jpg', '12288.jpg', '1244.jpg', '12169.jpg', '12348.jpg', '125.jpg', '12231.jpg', '12070.jpg', '12065.jpg', '12295.jpg', '12273.jpg', '12426.jpg', '12091.jpg', '12200.jpg', '12134.jpg', '1248.jpg', '12157.jpg', '12067.jpg', '12171.jpg', '12172.jpg', '12223.jpg', '12268.jpg', '1221.jpg', '12435.jpg', '12406.jpg', '12063.jpg', '12263.jpg', '12233.jpg', '12244.jpg', '12103.jpg', '12257.jpg', '12432.jpg', '12315.jpg', '12384.jpg', '12382.jpg', '12068.jpg', '12280.jpg', '12451.jpg', '12330.jpg', '12391.jpg', '12135.jpg', '12160.jpg', '1242.jpg', '12393.jpg', '12462.jpg', '12168.jpg', '12396.jpg', '1231.jpg', '12489.jpg', '12290.jpg', '12144.jpg', '12193.jpg', '12561.jpg', '12517.jpg', '12617.jpg', '12513.jpg', '12629.jpg', '12507.jpg', '12552.jpg', '12578.jpg', '12590.jpg', '12533.jpg', '12544.jpg', '12500.jpg', '12535.jpg', '12555.jpg', '12536.jpg', '12636.jpg', '1263.jpg', '12632.jpg', '12540.jpg', '12551.jpg', '12512.jpg', '12543.jpg', '12615.jpg', '12602.jpg', '12864.jpg', '12685.jpg', '12770.jpg', '12659.jpg', '1291.jpg', '12994.jpg', '12719.jpg', '12817.jpg', '12782.jpg', '12758.jpg', '12755.jpg', '12874.jpg', '12963.jpg', '12734.jpg', '12684.jpg', '12729.jpg', '12943.jpg', '12802.jpg', '12913.jpg', '12973.jpg', '12733.jpg', '12692.jpg', '12668.jpg', '12736.jpg', '1281.jpg', '1273.jpg', '12789.jpg', '12990.jpg', '12680.jpg', '12996.jpg', '12716.jpg', '12761.jpg', '12938.jpg', '12720.jpg', '13023.jpg', '12934.jpg', '12669.jpg', '12942.jpg', '12649.jpg', '12939.jpg', '12863.jpg', '12744.jpg', '12982.jpg', '12827.jpg', '12741.jpg', '12727.jpg', '12703.jpg', '12766.jpg', '12818.jpg', '13008.jpg', '13024.jpg', '12930.jpg', '12887.jpg', '12925.jpg', '13010.jpg', '12999.jpg', '13308.jpg', '13027.jpg', '13135.jpg', '13170.jpg', '13236.jpg', '13131.jpg', '13238.jpg', '13111.jpg', '13188.jpg', '13234.jpg', '13222.jpg', '13213.jpg', '1311.jpg', '13082.jpg', '13276.jpg', '13253.jpg', '13216.jpg', '1303.jpg', '13191.jpg', '13220.jpg', '13050.jpg', '13183.jpg', '13184.jpg', '13079.jpg', '13284.jpg', '13171.jpg', '13124.jpg', '13258.jpg', '13287.jpg', '13247.jpg', '1317.jpg', '13143.jpg', '1325.jpg', '13533.jpg', '13409.jpg', '13463.jpg', '1332.jpg', '13579.jpg', '13383.jpg', '13477.jpg', '13395.jpg', '13537.jpg', '13474.jpg', '13540.jpg', '13472.jpg', '13534.jpg', '13357.jpg', '13568.jpg', '13486.jpg', '1343.jpg', '13511.jpg', '13478.jpg', '13364.jpg', '13470.jpg', '13371.jpg', '13538.jpg', '1333.jpg', '13453.jpg', '13490.jpg', '13352.jpg', '13452.jpg', '13404.jpg', '13526.jpg', '13315.jpg', '13432.jpg', '13400.jpg', '13377.jpg', '13590.jpg', '13338.jpg', '13583.jpg', '13480.jpg', '13681.jpg', '13640.jpg', '13822.jpg', '13770.jpg', '13674.jpg', '13649.jpg', '13629.jpg', '13843.jpg', '13813.jpg', '13624.jpg', '13745.jpg', '13812.jpg', '13779.jpg', '13848.jpg', '137.jpg', '13741.jpg', '13689.jpg', '1366.jpg', '13697.jpg', '13603.jpg', '13753.jpg', '13777.jpg', '13746.jpg', '13844.jpg', '13815.jpg', '13827.jpg', '13599.jpg', '13609.jpg', '13823.jpg', '13806.jpg', '13621.jpg', '1363.jpg', '13846.jpg', '13676.jpg', '13835.jpg', '13796.jpg', '13735.jpg', '13702.jpg', '13622.jpg', '13790.jpg', '13951.jpg', '13860.jpg', '13961.jpg', '13863.jpg', '13882.jpg', '13969.jpg', '13901.jpg', '13916.jpg', '13905.jpg', '1391.jpg', '13946.jpg', '13888.jpg', '13932.jpg', '139.jpg', '13943.jpg', '1395.jpg', '14389.jpg', '14114.jpg', '14297.jpg', '14467.jpg', '14124.jpg', '14016.jpg', '14004.jpg', '14094.jpg', '14022.jpg', '14410.jpg', '14217.jpg', '14456.jpg', '142.jpg', '14158.jpg', '14247.jpg', '1415.jpg', '14434.jpg', '14261.jpg', '14383.jpg', '14300.jpg', '1413.jpg', '14294.jpg', '13978.jpg', '14295.jpg', '14182.jpg', '14416.jpg', '14148.jpg', '14464.jpg', '14439.jpg', '14447.jpg', '14525.jpg', '14246.jpg', '1403.jpg', '14212.jpg', '14474.jpg', '13982.jpg', '14231.jpg', '14454.jpg', '14161.jpg', '14184.jpg', '14218.jpg', '14205.jpg', '14372.jpg', '14035.jpg', '14194.jpg', '14001.jpg', '14318.jpg', '14092.jpg', '1445.jpg', '14365.jpg', '1406.jpg', '13983.jpg', '14189.jpg', '14521.jpg', '14321.jpg', '14284.jpg', '14081.jpg', '14014.jpg', '1429.jpg', '14681.jpg', '14708.jpg', '14651.jpg', '14705.jpg', '14661.jpg', '14731.jpg', '14723.jpg', '14662.jpg', '14707.jpg', '14649.jpg', '14721.jpg', '146.jpg', '14577.jpg', '14704.jpg', '14556.jpg', '14694.jpg', '14673.jpg', '14677.jpg', '14565.jpg', '14738.jpg', '14543.jpg', '14568.jpg', '14548.jpg', '14576.jpg', '14535.jpg', '14691.jpg', '1471.jpg', '14710.jpg', '14823.jpg', '15071.jpg', '14749.jpg', '14870.jpg', '14830.jpg', '15064.jpg', '14883.jpg', '14896.jpg', '14837.jpg', '14852.jpg', '14984.jpg', '15078.jpg', '15176.jpg', '1482.jpg', '14769.jpg', '15146.jpg', '15030.jpg', '15048.jpg', '14816.jpg', '14856.jpg', '14885.jpg', '15147.jpg', '14857.jpg', '14952.jpg', '14958.jpg', '14898.jpg', '15061.jpg', '14783.jpg', '14854.jpg', '15026.jpg', '15052.jpg', '14991.jpg', '14894.jpg', '14756.jpg', '15141.jpg', '14766.jpg', '14826.jpg', '15042.jpg', '14847.jpg', '15098.jpg', '14808.jpg', '14918.jpg', '14758.jpg', '15140.jpg', '14799.jpg', '15091.jpg', '14892.jpg', '1501.jpg', '14912.jpg', '14876.jpg', '14820.jpg', '14968.jpg', '14760.jpg', '14744.jpg', '1503.jpg', '14947.jpg', '14868.jpg', '14916.jpg', '15216.jpg', '15109.jpg', '15045.jpg', '14903.jpg', '1539.jpg', '15223.jpg', '15346.jpg', '15242.jpg', '15288.jpg', '15261.jpg', '15398.jpg', '15324.jpg', '15361.jpg', '15227.jpg', '154.jpg', '15291.jpg', '15331.jpg', '15404.jpg', '15345.jpg', '15334.jpg', '15322.jpg', '15344.jpg', '15405.jpg', '15320.jpg', '15293.jpg', '15236.jpg', '15397.jpg', '15218.jpg', '15304.jpg', '15238.jpg', '15374.jpg', '15451.jpg', '15542.jpg', '15538.jpg', '15428.jpg', '1546.jpg', '1542.jpg', '15515.jpg', '15523.jpg', '15491.jpg', '1550.jpg', '15518.jpg', '15487.jpg', '15439.jpg', '15528.jpg', '15514.jpg', '15409.jpg', '15429.jpg', '15690.jpg', '1569.jpg', '15673.jpg', '15545.jpg', '15641.jpg', '1560.jpg', '15626.jpg', '15587.jpg', '15596.jpg', '15653.jpg', '1563.jpg', '15674.jpg', '15675.jpg', '15693.jpg', '15624.jpg', '15573.jpg', '15577.jpg', '1562.jpg', '157.jpg', '15992.jpg', '15827.jpg', '16006.jpg', '1593.jpg', '15768.jpg', '15701.jpg', '15734.jpg', '15792.jpg', '15714.jpg', '15784.jpg', '15906.jpg', '1580.jpg', '15791.jpg', '15944.jpg', '15959.jpg', '15955.jpg', '15743.jpg', '15985.jpg', '15729.jpg', '15877.jpg', '15796.jpg', '15973.jpg', '15815.jpg', '15966.jpg', '15861.jpg', '15920.jpg', '15824.jpg', '15749.jpg', '15905.jpg', '15956.jpg', '15945.jpg', '15871.jpg', '15742.jpg', '1587.jpg', '16020.jpg', '15822.jpg', '15938.jpg', '15794.jpg', '15988.jpg', '158.jpg', '15787.jpg', '15845.jpg', '15730.jpg', '15864.jpg', '15962.jpg', '15699.jpg', '16280.jpg', '16208.jpg', '1630.jpg', '16115.jpg', '16243.jpg', '16279.jpg', '16199.jpg', '16166.jpg', '16059.jpg', '16123.jpg', '16095.jpg', '16064.jpg', '16141.jpg', '1610.jpg', '16221.jpg', '1623.jpg', '1629.jpg', '16078.jpg', '16183.jpg', '16274.jpg', '16160.jpg', '1611.jpg', '16171.jpg', '1622.jpg', '16289.jpg', '16234.jpg', '16272.jpg', '16079.jpg', '16159.jpg', '16137.jpg', '16057.jpg', '16100.jpg', '16594.jpg', '1656.jpg', '16432.jpg', '16457.jpg', '16793.jpg', '16423.jpg', '16607.jpg', '16455.jpg', '16624.jpg', '16478.jpg', '16463.jpg', '16569.jpg', '16800.jpg', '16774.jpg', '16672.jpg', '16550.jpg', '16562.jpg', '16488.jpg', '16507.jpg', '16575.jpg', '16753.jpg', '16314.jpg', '16795.jpg', '16466.jpg', '16643.jpg', '16730.jpg', '16593.jpg', '16452.jpg', '16483.jpg', '16339.jpg', '16543.jpg', '16681.jpg', '16346.jpg', '16578.jpg', '16564.jpg', '16734.jpg', '1647.jpg', '16413.jpg', '16623.jpg', '16362.jpg', '16567.jpg', '16807.jpg', '16431.jpg', '16315.jpg', '16547.jpg', '16577.jpg', '16579.jpg', '1643.jpg', '16595.jpg', '16733.jpg', '16324.jpg', '16395.jpg', '16750.jpg', '16456.jpg', '16538.jpg', '16692.jpg', '16559.jpg', '16377.jpg', '1668.jpg', '1636.jpg', '16326.jpg', '16349.jpg', '16614.jpg', '16500.jpg', '16786.jpg', '1716.jpg', '17064.jpg', '17161.jpg', '16933.jpg', '16808.jpg', '17236.jpg', '17094.jpg', '16952.jpg', '17235.jpg', '17187.jpg', '16813.jpg', '17033.jpg', '17202.jpg', '17085.jpg', '17065.jpg', '16948.jpg', '16902.jpg', '1693.jpg', '16912.jpg', '17267.jpg', '16988.jpg', '16985.jpg', '17154.jpg', '17055.jpg', '17270.jpg', '17262.jpg', '16965.jpg', '1683.jpg', '17198.jpg', '1684.jpg', '17264.jpg', '16939.jpg', '1718.jpg', '16873.jpg', '17075.jpg', '17000.jpg', '17225.jpg', '16979.jpg', '16888.jpg', '16889.jpg', '17058.jpg', '17211.jpg', '16837.jpg', '17073.jpg', '17156.jpg', '17165.jpg', '1687.jpg', '17032.jpg', '16931.jpg', '17193.jpg', '16911.jpg', '17403.jpg', '17503.jpg', '17480.jpg', '17462.jpg', '17451.jpg', '17495.jpg', '17406.jpg', '1739.jpg', '17332.jpg', '17345.jpg', '17338.jpg', '17401.jpg', '17418.jpg', '17272.jpg', '17397.jpg', '17302.jpg', '17453.jpg', '17450.jpg', '17425.jpg', '17416.jpg', '17308.jpg', '17296.jpg', '17337.jpg', '17322.jpg', '17457.jpg', '17273.jpg', '17330.jpg', '17427.jpg', '17452.jpg', '17354.jpg', '17468.jpg', '17491.jpg', '17479.jpg', '17719.jpg', '17764.jpg', '17563.jpg', '17609.jpg', '17520.jpg', '17575.jpg', '17825.jpg', '1751.jpg', '1763.jpg', '17574.jpg', '17731.jpg', '17830.jpg', '17594.jpg', '17516.jpg', '17750.jpg', '17771.jpg', '17541.jpg', '17687.jpg', '17602.jpg', '17805.jpg', '17662.jpg', '17551.jpg', '17806.jpg', '17605.jpg', '17560.jpg', '1760.jpg', '17793.jpg', '17545.jpg', '17821.jpg', '17751.jpg', '17835.jpg', '17636.jpg', '17552.jpg', '17537.jpg', '17590.jpg', '17673.jpg', '1753.jpg', '17718.jpg', '17539.jpg', '17581.jpg', '18056.jpg', '17912.jpg', '17951.jpg', '17898.jpg', '18017.jpg', '18026.jpg', '17896.jpg', '17983.jpg', '17953.jpg', '17875.jpg', '17868.jpg', '17973.jpg', '18050.jpg', '1786.jpg', '18072.jpg', '18025.jpg', '18034.jpg', '17906.jpg', '17981.jpg', '17932.jpg', '17956.jpg', '18029.jpg', '18084.jpg', '17977.jpg', '18037.jpg', '18105.jpg', '17903.jpg', '17891.jpg', '17873.jpg', '1787.jpg', '18087.jpg', '18045.jpg', '17853.jpg', '18099.jpg', '17969.jpg', '17989.jpg', '18079.jpg', '18052.jpg', '18133.jpg', '18203.jpg', '18456.jpg', '18156.jpg', '18252.jpg', '18115.jpg', '18548.jpg', '18279.jpg', '18438.jpg', '18375.jpg', '18538.jpg', '18546.jpg', '18234.jpg', '18560.jpg', '18412.jpg', '18397.jpg', '18312.jpg', '18467.jpg', '18237.jpg', '18240.jpg', '18291.jpg', '18335.jpg', '18283.jpg', '18157.jpg', '18415.jpg', '18166.jpg', '18435.jpg', '18258.jpg', '18449.jpg', '18260.jpg', '18321.jpg', '18364.jpg', '18272.jpg', '18542.jpg', '18389.jpg', '18419.jpg', '1850.jpg', '18195.jpg', '1846.jpg', '18151.jpg', '18140.jpg', '18235.jpg', '18331.jpg', '18496.jpg', '18289.jpg', '18550.jpg', '18201.jpg', '18344.jpg', '18446.jpg', '18182.jpg', '18167.jpg', '18324.jpg', '18342.jpg', '18593.jpg', '18815.jpg', '18580.jpg', '1872.jpg', '18758.jpg', '18756.jpg', '18743.jpg', '18772.jpg', '18771.jpg', '18881.jpg', '18639.jpg', '18694.jpg', '18814.jpg', '18824.jpg', '18875.jpg', '18668.jpg', '1859.jpg', '18565.jpg', '18846.jpg', '18854.jpg', '18793.jpg', '18564.jpg', '18672.jpg', '18769.jpg', '18720.jpg', '18725.jpg', '18777.jpg', '1867.jpg', '18592.jpg', '18791.jpg', '18794.jpg', '18676.jpg', '18797.jpg', '18755.jpg', '18767.jpg', '18752.jpg', '18655.jpg', '1879.jpg', '1877.jpg', '18602.jpg', '188.jpg', '19256.jpg', '19056.jpg', '19089.jpg', '19127.jpg', '19151.jpg', '18959.jpg', '19386.jpg', '18951.jpg', '1937.jpg', '19260.jpg', '18902.jpg', '18934.jpg', '191.jpg', '18893.jpg', '19364.jpg', '19344.jpg', '18922.jpg', '18883.jpg', '19245.jpg', '19003.jpg', '1900.jpg', '19325.jpg', '19228.jpg', '18992.jpg', '19023.jpg', '19374.jpg', '18991.jpg', '18962.jpg', '19080.jpg', '19036.jpg', '19249.jpg', '19302.jpg', '19217.jpg', '19101.jpg', '1891.jpg', '19405.jpg', '18917.jpg', '19153.jpg', '1940.jpg', '19077.jpg', '1901.jpg', '19180.jpg', '18887.jpg', '18971.jpg', '19375.jpg', '19280.jpg', '19293.jpg', '19221.jpg', '19108.jpg', '19126.jpg', '18885.jpg', '19164.jpg', '19159.jpg', '19150.jpg', '18919.jpg', '18993.jpg', '19016.jpg', '19125.jpg', '19104.jpg', '18938.jpg', '19347.jpg', '19078.jpg', '19383.jpg', '19032.jpg', '19057.jpg', '19332.jpg', '19134.jpg', '19440.jpg', '19571.jpg', '19537.jpg', '19595.jpg', '19552.jpg', '19624.jpg', '1955.jpg', '10196.jpg', '10144.jpg', '10056.jpg', '10032.jpg', '10185.jpg', '1012.jpg', '0.jpg', '10113.jpg', '10176.jpg', '10006.jpg', '10191.jpg', '10184.jpg', '10014.jpg', '10210.jpg', '10029.jpg', '10205.jpg', '1001.jpg', '10151.jpg', '10198.jpg', '1009.jpg', '10126.jpg', '10018.jpg', '10161.jpg', '10165.jpg', '10695.jpg', '10328.jpg', '1064.jpg', '10452.jpg', '10480.jpg', '10306.jpg', '1028.jpg', '1055.jpg', '10318.jpg', '10421.jpg', '10656.jpg', '10466.jpg', '10641.jpg', '10576.jpg', '10502.jpg', '10495.jpg', '10570.jpg', '10231.jpg', '10383.jpg', '10553.jpg', '10582.jpg', '1041.jpg', '10598.jpg', '10608.jpg', '10252.jpg', '10310.jpg', '10295.jpg', '10444.jpg', '10266.jpg', '10511.jpg', '10499.jpg', '10489.jpg', '10520.jpg', '10559.jpg', '10257.jpg', '10626.jpg', '10303.jpg', '10357.jpg', '1058.jpg', '10374.jpg', '10672.jpg', '10228.jpg', '10316.jpg', '10367.jpg', '10362.jpg', '10251.jpg', '10500.jpg', '10630.jpg', '10278.jpg', '10485.jpg', '10528.jpg', '10312.jpg', '10646.jpg', '10402.jpg', '10620.jpg', '10350.jpg', '10653.jpg', '1045.jpg', '10872.jpg', '10865.jpg', '10809.jpg', '10849.jpg', '10744.jpg', '1093.jpg', '10699.jpg', '10832.jpg', '10792.jpg', '1090.jpg', '10886.jpg', '10924.jpg', '10798.jpg', '10730.jpg', '10812.jpg', '10911.jpg', '10978.jpg', '10754.jpg', '10828.jpg', '10921.jpg', '10790.jpg', '10842.jpg', '10756.jpg', '10892.jpg', '10831.jpg', '10878.jpg', '10805.jpg', '10963.jpg', '10936.jpg', '10720.jpg', '10717.jpg', '10899.jpg', '10997.jpg', '11055.jpg', '11259.jpg', '11181.jpg', '11345.jpg', '11235.jpg', '1112.jpg', '11209.jpg', '11197.jpg', '11011.jpg', '11316.jpg', '11098.jpg', '11315.jpg', '112.jpg', '11274.jpg', '11042.jpg', '11037.jpg', '11249.jpg', '11334.jpg', '11309.jpg', '11203.jpg', '11307.jpg', '11363.jpg', '11290.jpg', '11317.jpg', '11278.jpg', '11226.jpg', '1107.jpg', '11054.jpg', '11108.jpg', '11117.jpg', '11084.jpg', '11302.jpg', '11305.jpg', '11131.jpg', '11306.jpg', '11244.jpg', '11338.jpg', '11024.jpg', '1104.jpg', '11366.jpg', '11173.jpg', '11323.jpg', '11349.jpg', '11045.jpg', '11187.jpg', '11003.jpg', '11157.jpg', '11077.jpg', '11827.jpg', '11700.jpg', '11595.jpg', '11560.jpg', '11845.jpg', '11477.jpg', '11670.jpg', '11718.jpg', '11569.jpg', '11570.jpg', '11471.jpg', '11620.jpg', '11924.jpg', '11428.jpg', '11374.jpg', '11635.jpg', '11883.jpg', '11371.jpg', '11796.jpg', '11483.jpg', '11642.jpg', '11780.jpg', '11410.jpg', '11621.jpg', '11813.jpg', '11458.jpg', '11378.jpg', '11502.jpg']\n"
          ]
        }
      ]
    },
    {
      "cell_type": "code",
      "source": [
        "all_extensions = set()  # Para almacenar todas las extensiones encontradas\n",
        "\n",
        "# Iterar sobre cada subdirectorio en \"train_set\"\n",
        "for folder in os.listdir(\"train_set\"):\n",
        "    # Determinar las extensiones de archivos en el subdirectorio actual\n",
        "    extensions = {os.path.splitext(file)[1].lower() for file in os.listdir(f\"train_set/{folder}\")}\n",
        "    all_extensions.update(extensions)\n",
        "\n",
        "    print(f\"Para la carpeta {folder}:\")\n",
        "    print(extensions)\n",
        "    print(\"-\" * 50)\n",
        "\n",
        "print(\"Todas las extensiones encontradas:\", all_extensions)"
      ],
      "metadata": {
        "colab": {
          "base_uri": "https://localhost:8080/"
        },
        "id": "JxwTzTtELq52",
        "outputId": "f677931f-65d8-4e5d-ffe8-68ed81118f92"
      },
      "execution_count": 6,
      "outputs": [
        {
          "output_type": "stream",
          "name": "stdout",
          "text": [
            "Para la carpeta street:\n",
            "{'.jpg'}\n",
            "--------------------------------------------------\n",
            "Para la carpeta forest:\n",
            "{'.jpg'}\n",
            "--------------------------------------------------\n",
            "Para la carpeta mountain:\n",
            "{'.jpg'}\n",
            "--------------------------------------------------\n",
            "Para la carpeta buildings:\n",
            "{'.jpg'}\n",
            "--------------------------------------------------\n",
            "Para la carpeta glacier:\n",
            "{'.jpg'}\n",
            "--------------------------------------------------\n",
            "Para la carpeta sea:\n",
            "{'.jpg'}\n",
            "--------------------------------------------------\n",
            "Todas las extensiones encontradas: {'.jpg'}\n"
          ]
        }
      ]
    },
    {
      "cell_type": "code",
      "source": [
        "import torch\n",
        "from torch.utils.data import DataLoader\n",
        "from torchvision.datasets import ImageFolder\n",
        "import os\n",
        "print(os.listdir())\n",
        "train_dataset = ImageFolder(\"train_set\")#, extensions=['.jpg', '.jpeg', '.png'])\n",
        "test_dataset = ImageFolder(\"test_set\")\n",
        "\n",
        "# Batch size de ejemplo.\n",
        "BATCH_SIZE = 10\n",
        "\n",
        "# Separamos en train y validation\n",
        "train_size = int(0.8 * len(train_dataset))\n",
        "valid_size = len(train_dataset) - train_size\n",
        "train, validation = torch.utils.data.random_split(train_dataset, [train_size,\n",
        "valid_size])\n",
        "print(f\"{len(train)} Training images, {len(validation)} Validation images\")\n",
        "\n",
        "# Podemos usar data loaders como vimos en el práctico.\n",
        "train_loader = DataLoader(train, batch_size=BATCH_SIZE, shuffle=True,\n",
        "pin_memory=True)\n",
        "val_loader = DataLoader(validation, batch_size=BATCH_SIZE, pin_memory=True)\n",
        "test_loader = DataLoader(test_dataset, batch_size=BATCH_SIZE, pin_memory=True)"
      ],
      "metadata": {
        "colab": {
          "base_uri": "https://localhost:8080/"
        },
        "id": "R8SIYnGlIoiS",
        "outputId": "f2edc14c-962b-4008-ae27-402cb0da8367"
      },
      "execution_count": 7,
      "outputs": [
        {
          "output_type": "stream",
          "name": "stdout",
          "text": [
            "['train_set', 'test_set']\n",
            "11227 Training images, 2807 Validation images\n"
          ]
        }
      ]
    },
    {
      "cell_type": "code",
      "source": [
        "import torch.nn as nn\n",
        "import matplotlib.pyplot as plt\n",
        "import torch.nn.functional as F\n",
        "from torchvision import transforms\n",
        "from sklearn.metrics import accuracy_score, confusion_matrix\n",
        "import time\n",
        "\n",
        "class CustomCNN(nn.Module):\n",
        "  def __init__(self, in_channels,number_classes):\n",
        "    # in_channels: int, cantidad de canales de la imagen original\n",
        "    super(CustomCNN, self).__init__()\n",
        "    self.conv1 = nn.Conv2d(in_channels, out_channels = 32, kernel_size = 3,padding=1)\n",
        "    self.conv2 = nn.Conv2d(in_channels = 32, out_channels = 32, kernel_size = 3,padding=1)\n",
        "    self.conv3 = nn.Conv2d(in_channels = 32, out_channels = 64, kernel_size = 3,padding=1)\n",
        "    self.conv4 = nn.Conv2d(in_channels = 64, out_channels = 64, kernel_size = 3,padding=1)\n",
        "    self.conv5 = nn.Conv2d(in_channels = 64, out_channels = 120, kernel_size = 3,padding=1)\n",
        "\n",
        "    self.linear1 = nn.Linear(in_features = 120*4*4, out_features = 512)\n",
        "    self.linear2 = nn.Linear(in_features = 512, out_features = number_classes)\n",
        "\n",
        "    self.max_pooling = nn.MaxPool2d(kernel_size = 2, stride = 2)\n",
        "    self.dropout = nn.Dropout(p=0.5)\n",
        "\n",
        "  def forward(self, x):\n",
        "    out = F.relu(self.conv1(x))\n",
        "    out = F.relu(self.conv2(out))\n",
        "    out = self.max_pooling(out)\n",
        "\n",
        "    out = F.relu(self.conv3(out))\n",
        "    out = F.relu(self.conv4(out))\n",
        "    out = self.max_pooling(out)\n",
        "\n",
        "    out = F.relu(self.conv5(out))\n",
        "    out = self.max_pooling(out)\n",
        "\n",
        "    out = self.dropout(out.flatten(1))\n",
        "\n",
        "    out = F.relu(self.linear1(out))\n",
        "    out = self.dropout(out)\n",
        "    out = self.linear2(out)\n",
        "    return out"
      ],
      "metadata": {
        "id": "nlu90T8YB1nq"
      },
      "execution_count": 16,
      "outputs": []
    },
    {
      "cell_type": "code",
      "source": [
        "# def get_dataloaders(train_transf, test_transf, batch_size):\n",
        "\n",
        "#   train_dataset = CIFAR10(\"data\", train=True, download=True, transform=train_transf)\n",
        "#   test_dataset = CIFAR10(\"data\", train=False, download=True, transform=test_transf)\n",
        "\n",
        "#   train_size = int(0.8 * len(train_dataset))\n",
        "#   valid_size = len(train_dataset) - train_size\n",
        "#   train_dataset, validation_dataset = torch.utils.data.random_split(train_dataset, [train_size, valid_size])\n",
        "\n",
        "#   train_loader = DataLoader(train_dataset, batch_size=batch_size, shuffle=True, pin_memory=True, num_workers=4)\n",
        "#   valid_loader = DataLoader(validation_dataset, batch_size=batch_size, shuffle=True, pin_memory=True, num_workers=4)\n",
        "#   test_loader = DataLoader(test_dataset, batch_size=batch_size, shuffle=True, pin_memory=True, num_workers=4)\n",
        "\n",
        "#   return train_loader, valid_loader, test_loader\n",
        "\n",
        "def train_epoch(training_model, loader, criterion, optim):\n",
        "    training_model.train()\n",
        "    epoch_loss = 0.0\n",
        "    all_labels = []\n",
        "    all_predictions = []\n",
        "\n",
        "    for images, labels in loader:\n",
        "      all_labels.extend(labels.numpy())\n",
        "\n",
        "      optim.zero_grad()\n",
        "\n",
        "      predictions = training_model(images.to(device))\n",
        "      all_predictions.extend(torch.argmax(predictions, dim=1).cpu().numpy())\n",
        "\n",
        "      loss = criterion(predictions, labels.to(device))\n",
        "\n",
        "      loss.backward()\n",
        "      optim.step()\n",
        "\n",
        "      epoch_loss += loss.item()\n",
        "\n",
        "    return epoch_loss / len(loader), accuracy_score(all_labels, all_predictions) * 100\n",
        "\n",
        "\n",
        "def validation_epoch(val_model, loader, criterion):\n",
        "    val_model.eval()\n",
        "    epoch_loss = 0.0\n",
        "    all_labels = []\n",
        "    all_predictions = []\n",
        "\n",
        "    with torch.no_grad():\n",
        "      for images, labels in loader:\n",
        "        all_labels.extend(labels.numpy())\n",
        "\n",
        "        predictions = val_model(images.to(device))\n",
        "        all_predictions.extend(torch.argmax(predictions, dim=1).cpu().numpy())\n",
        "\n",
        "        loss = criterion(predictions, labels.to(device))\n",
        "\n",
        "        epoch_loss += loss.item()\n",
        "\n",
        "    return epoch_loss / len(loader), accuracy_score(all_labels, all_predictions) * 100\n",
        "\n",
        "\n",
        "def train_model(model, train_loader, test_loader, criterion, optim, number_epochs):\n",
        "  train_history = []\n",
        "  test_history = []\n",
        "  accuracy_history = []\n",
        "\n",
        "  for epoch in range(number_epochs):\n",
        "      start_time = time.time()\n",
        "\n",
        "      train_loss, train_acc = train_epoch(model, train_loader, criterion, optimizer)\n",
        "      train_history.append(train_loss)\n",
        "      print(\"Training epoch {} | Loss {:.6f} | Accuracy {:.2f}% | Time {:.2f} seconds\"\n",
        "            .format(epoch + 1, train_loss, train_acc, time.time() - start_time))\n",
        "\n",
        "      start_time = time.time()\n",
        "      test_loss, acc = validation_epoch(model, test_loader, criterion)\n",
        "      test_history.append(test_loss)\n",
        "      accuracy_history.append(acc)\n",
        "      print(\"Validation epoch {} | Loss {:.6f} | Accuracy {:.2f}% | Time {:.2f} seconds\"\n",
        "            .format(epoch + 1, test_loss, acc, time.time() - start_time))\n",
        "\n",
        "\n",
        "device = torch.device('cuda:0' if torch.cuda.is_available() else 'cpu')\n",
        "print(device)"
      ],
      "metadata": {
        "colab": {
          "base_uri": "https://localhost:8080/"
        },
        "id": "mm1B4udkCEAF",
        "outputId": "9360e3a6-73ae-4be8-887f-ff197b335c97"
      },
      "execution_count": 17,
      "outputs": [
        {
          "output_type": "stream",
          "name": "stdout",
          "text": [
            "cpu\n"
          ]
        }
      ]
    },
    {
      "cell_type": "code",
      "source": [
        "# Global models config\n",
        "\n",
        "BATCH_SIZE = 128\n",
        "LR = 0.001\n",
        "NUMBER_EPOCHS = 15\n",
        "criterion = nn.CrossEntropyLoss().to(device)"
      ],
      "metadata": {
        "id": "E77gqShgCZ09"
      },
      "execution_count": 18,
      "outputs": []
    },
    {
      "cell_type": "code",
      "source": [
        "# Fijamos las semillas siempre para poder comparar.\n",
        "\n",
        "torch.manual_seed(42)\n",
        "torch.backends.cudnn.deterministic = True\n",
        "torch.backends.cudnn.benchmark = False\n",
        "\n",
        "# Creamos los dataloaders\n",
        "test_transform = transforms.Compose([\n",
        "    transforms.ToTensor()\n",
        "])\n",
        "\n",
        "train_transform = transforms.Compose([\n",
        "    transforms.ToTensor()\n",
        "])\n",
        "\n",
        "train_dataset = ImageFolder(\"train_set\", transform=train_transform)\n",
        "test_dataset = ImageFolder(\"test_set\", transform=test_transform)\n",
        "\n",
        "# train_loader, valid_loader, test_loader = get_dataloaders(train_transform, test_transform, BATCH_SIZE)\n",
        "\n",
        "# Definimos el modelo y el optimizador\n",
        "modelo_sin_aug = CustomCNN(3,10).to(device)\n",
        "optimizer = torch.optim.Adam(modelo_sin_aug.parameters(), lr=LR)\n",
        "\n",
        "# Entrenamos\n",
        "train_model(modelo_sin_aug, train_loader, val_loader, criterion, optimizer, NUMBER_EPOCHS)"
      ],
      "metadata": {
        "colab": {
          "base_uri": "https://localhost:8080/",
          "height": 437
        },
        "id": "v7JpHlLgCc_A",
        "outputId": "685c2cdf-c513-4b1f-cd5f-49d5f90f2710"
      },
      "execution_count": 20,
      "outputs": [
        {
          "output_type": "error",
          "ename": "TypeError",
          "evalue": "ignored",
          "traceback": [
            "\u001b[0;31m---------------------------------------------------------------------------\u001b[0m",
            "\u001b[0;31mTypeError\u001b[0m                                 Traceback (most recent call last)",
            "\u001b[0;32m<ipython-input-20-26c906789c7e>\u001b[0m in \u001b[0;36m<cell line: 26>\u001b[0;34m()\u001b[0m\n\u001b[1;32m     24\u001b[0m \u001b[0;34m\u001b[0m\u001b[0m\n\u001b[1;32m     25\u001b[0m \u001b[0;31m# Entrenamos\u001b[0m\u001b[0;34m\u001b[0m\u001b[0;34m\u001b[0m\u001b[0m\n\u001b[0;32m---> 26\u001b[0;31m \u001b[0mtrain_model\u001b[0m\u001b[0;34m(\u001b[0m\u001b[0mmodelo_sin_aug\u001b[0m\u001b[0;34m,\u001b[0m \u001b[0mtrain_loader\u001b[0m\u001b[0;34m,\u001b[0m \u001b[0mval_loader\u001b[0m\u001b[0;34m,\u001b[0m \u001b[0mcriterion\u001b[0m\u001b[0;34m,\u001b[0m \u001b[0moptimizer\u001b[0m\u001b[0;34m,\u001b[0m \u001b[0mNUMBER_EPOCHS\u001b[0m\u001b[0;34m)\u001b[0m\u001b[0;34m\u001b[0m\u001b[0;34m\u001b[0m\u001b[0m\n\u001b[0m",
            "\u001b[0;32m<ipython-input-17-0248e6df5c1b>\u001b[0m in \u001b[0;36mtrain_model\u001b[0;34m(model, train_loader, test_loader, criterion, optim, number_epochs)\u001b[0m\n\u001b[1;32m     66\u001b[0m       \u001b[0mstart_time\u001b[0m \u001b[0;34m=\u001b[0m \u001b[0mtime\u001b[0m\u001b[0;34m.\u001b[0m\u001b[0mtime\u001b[0m\u001b[0;34m(\u001b[0m\u001b[0;34m)\u001b[0m\u001b[0;34m\u001b[0m\u001b[0;34m\u001b[0m\u001b[0m\n\u001b[1;32m     67\u001b[0m \u001b[0;34m\u001b[0m\u001b[0m\n\u001b[0;32m---> 68\u001b[0;31m       \u001b[0mtrain_loss\u001b[0m\u001b[0;34m,\u001b[0m \u001b[0mtrain_acc\u001b[0m \u001b[0;34m=\u001b[0m \u001b[0mtrain_epoch\u001b[0m\u001b[0;34m(\u001b[0m\u001b[0mmodel\u001b[0m\u001b[0;34m,\u001b[0m \u001b[0mtrain_loader\u001b[0m\u001b[0;34m,\u001b[0m \u001b[0mcriterion\u001b[0m\u001b[0;34m,\u001b[0m \u001b[0moptimizer\u001b[0m\u001b[0;34m)\u001b[0m\u001b[0;34m\u001b[0m\u001b[0;34m\u001b[0m\u001b[0m\n\u001b[0m\u001b[1;32m     69\u001b[0m       \u001b[0mtrain_history\u001b[0m\u001b[0;34m.\u001b[0m\u001b[0mappend\u001b[0m\u001b[0;34m(\u001b[0m\u001b[0mtrain_loss\u001b[0m\u001b[0;34m)\u001b[0m\u001b[0;34m\u001b[0m\u001b[0;34m\u001b[0m\u001b[0m\n\u001b[1;32m     70\u001b[0m       print(\"Training epoch {} | Loss {:.6f} | Accuracy {:.2f}% | Time {:.2f} seconds\"\n",
            "\u001b[0;32m<ipython-input-17-0248e6df5c1b>\u001b[0m in \u001b[0;36mtrain_epoch\u001b[0;34m(training_model, loader, criterion, optim)\u001b[0m\n\u001b[1;32m     20\u001b[0m     \u001b[0mall_predictions\u001b[0m \u001b[0;34m=\u001b[0m \u001b[0;34m[\u001b[0m\u001b[0;34m]\u001b[0m\u001b[0;34m\u001b[0m\u001b[0;34m\u001b[0m\u001b[0m\n\u001b[1;32m     21\u001b[0m \u001b[0;34m\u001b[0m\u001b[0m\n\u001b[0;32m---> 22\u001b[0;31m     \u001b[0;32mfor\u001b[0m \u001b[0mimages\u001b[0m\u001b[0;34m,\u001b[0m \u001b[0mlabels\u001b[0m \u001b[0;32min\u001b[0m \u001b[0mloader\u001b[0m\u001b[0;34m:\u001b[0m\u001b[0;34m\u001b[0m\u001b[0;34m\u001b[0m\u001b[0m\n\u001b[0m\u001b[1;32m     23\u001b[0m       \u001b[0mall_labels\u001b[0m\u001b[0;34m.\u001b[0m\u001b[0mextend\u001b[0m\u001b[0;34m(\u001b[0m\u001b[0mlabels\u001b[0m\u001b[0;34m.\u001b[0m\u001b[0mnumpy\u001b[0m\u001b[0;34m(\u001b[0m\u001b[0;34m)\u001b[0m\u001b[0;34m)\u001b[0m\u001b[0;34m\u001b[0m\u001b[0;34m\u001b[0m\u001b[0m\n\u001b[1;32m     24\u001b[0m \u001b[0;34m\u001b[0m\u001b[0m\n",
            "\u001b[0;32m/usr/local/lib/python3.10/dist-packages/torch/utils/data/dataloader.py\u001b[0m in \u001b[0;36m__next__\u001b[0;34m(self)\u001b[0m\n\u001b[1;32m    631\u001b[0m                 \u001b[0;31m# TODO(https://github.com/pytorch/pytorch/issues/76750)\u001b[0m\u001b[0;34m\u001b[0m\u001b[0;34m\u001b[0m\u001b[0m\n\u001b[1;32m    632\u001b[0m                 \u001b[0mself\u001b[0m\u001b[0;34m.\u001b[0m\u001b[0m_reset\u001b[0m\u001b[0;34m(\u001b[0m\u001b[0;34m)\u001b[0m  \u001b[0;31m# type: ignore[call-arg]\u001b[0m\u001b[0;34m\u001b[0m\u001b[0;34m\u001b[0m\u001b[0m\n\u001b[0;32m--> 633\u001b[0;31m             \u001b[0mdata\u001b[0m \u001b[0;34m=\u001b[0m \u001b[0mself\u001b[0m\u001b[0;34m.\u001b[0m\u001b[0m_next_data\u001b[0m\u001b[0;34m(\u001b[0m\u001b[0;34m)\u001b[0m\u001b[0;34m\u001b[0m\u001b[0;34m\u001b[0m\u001b[0m\n\u001b[0m\u001b[1;32m    634\u001b[0m             \u001b[0mself\u001b[0m\u001b[0;34m.\u001b[0m\u001b[0m_num_yielded\u001b[0m \u001b[0;34m+=\u001b[0m \u001b[0;36m1\u001b[0m\u001b[0;34m\u001b[0m\u001b[0;34m\u001b[0m\u001b[0m\n\u001b[1;32m    635\u001b[0m             \u001b[0;32mif\u001b[0m \u001b[0mself\u001b[0m\u001b[0;34m.\u001b[0m\u001b[0m_dataset_kind\u001b[0m \u001b[0;34m==\u001b[0m \u001b[0m_DatasetKind\u001b[0m\u001b[0;34m.\u001b[0m\u001b[0mIterable\u001b[0m \u001b[0;32mand\u001b[0m\u001b[0;31m \u001b[0m\u001b[0;31m\\\u001b[0m\u001b[0;34m\u001b[0m\u001b[0;34m\u001b[0m\u001b[0m\n",
            "\u001b[0;32m/usr/local/lib/python3.10/dist-packages/torch/utils/data/dataloader.py\u001b[0m in \u001b[0;36m_next_data\u001b[0;34m(self)\u001b[0m\n\u001b[1;32m    675\u001b[0m     \u001b[0;32mdef\u001b[0m \u001b[0m_next_data\u001b[0m\u001b[0;34m(\u001b[0m\u001b[0mself\u001b[0m\u001b[0;34m)\u001b[0m\u001b[0;34m:\u001b[0m\u001b[0;34m\u001b[0m\u001b[0;34m\u001b[0m\u001b[0m\n\u001b[1;32m    676\u001b[0m         \u001b[0mindex\u001b[0m \u001b[0;34m=\u001b[0m \u001b[0mself\u001b[0m\u001b[0;34m.\u001b[0m\u001b[0m_next_index\u001b[0m\u001b[0;34m(\u001b[0m\u001b[0;34m)\u001b[0m  \u001b[0;31m# may raise StopIteration\u001b[0m\u001b[0;34m\u001b[0m\u001b[0;34m\u001b[0m\u001b[0m\n\u001b[0;32m--> 677\u001b[0;31m         \u001b[0mdata\u001b[0m \u001b[0;34m=\u001b[0m \u001b[0mself\u001b[0m\u001b[0;34m.\u001b[0m\u001b[0m_dataset_fetcher\u001b[0m\u001b[0;34m.\u001b[0m\u001b[0mfetch\u001b[0m\u001b[0;34m(\u001b[0m\u001b[0mindex\u001b[0m\u001b[0;34m)\u001b[0m  \u001b[0;31m# may raise StopIteration\u001b[0m\u001b[0;34m\u001b[0m\u001b[0;34m\u001b[0m\u001b[0m\n\u001b[0m\u001b[1;32m    678\u001b[0m         \u001b[0;32mif\u001b[0m \u001b[0mself\u001b[0m\u001b[0;34m.\u001b[0m\u001b[0m_pin_memory\u001b[0m\u001b[0;34m:\u001b[0m\u001b[0;34m\u001b[0m\u001b[0;34m\u001b[0m\u001b[0m\n\u001b[1;32m    679\u001b[0m             \u001b[0mdata\u001b[0m \u001b[0;34m=\u001b[0m \u001b[0m_utils\u001b[0m\u001b[0;34m.\u001b[0m\u001b[0mpin_memory\u001b[0m\u001b[0;34m.\u001b[0m\u001b[0mpin_memory\u001b[0m\u001b[0;34m(\u001b[0m\u001b[0mdata\u001b[0m\u001b[0;34m,\u001b[0m \u001b[0mself\u001b[0m\u001b[0;34m.\u001b[0m\u001b[0m_pin_memory_device\u001b[0m\u001b[0;34m)\u001b[0m\u001b[0;34m\u001b[0m\u001b[0;34m\u001b[0m\u001b[0m\n",
            "\u001b[0;32m/usr/local/lib/python3.10/dist-packages/torch/utils/data/_utils/fetch.py\u001b[0m in \u001b[0;36mfetch\u001b[0;34m(self, possibly_batched_index)\u001b[0m\n\u001b[1;32m     52\u001b[0m         \u001b[0;32melse\u001b[0m\u001b[0;34m:\u001b[0m\u001b[0;34m\u001b[0m\u001b[0;34m\u001b[0m\u001b[0m\n\u001b[1;32m     53\u001b[0m             \u001b[0mdata\u001b[0m \u001b[0;34m=\u001b[0m \u001b[0mself\u001b[0m\u001b[0;34m.\u001b[0m\u001b[0mdataset\u001b[0m\u001b[0;34m[\u001b[0m\u001b[0mpossibly_batched_index\u001b[0m\u001b[0;34m]\u001b[0m\u001b[0;34m\u001b[0m\u001b[0;34m\u001b[0m\u001b[0m\n\u001b[0;32m---> 54\u001b[0;31m         \u001b[0;32mreturn\u001b[0m \u001b[0mself\u001b[0m\u001b[0;34m.\u001b[0m\u001b[0mcollate_fn\u001b[0m\u001b[0;34m(\u001b[0m\u001b[0mdata\u001b[0m\u001b[0;34m)\u001b[0m\u001b[0;34m\u001b[0m\u001b[0;34m\u001b[0m\u001b[0m\n\u001b[0m",
            "\u001b[0;32m/usr/local/lib/python3.10/dist-packages/torch/utils/data/_utils/collate.py\u001b[0m in \u001b[0;36mdefault_collate\u001b[0;34m(batch)\u001b[0m\n\u001b[1;32m    263\u001b[0m             \u001b[0;34m>>\u001b[0m\u001b[0;34m>\u001b[0m \u001b[0mdefault_collate\u001b[0m\u001b[0;34m(\u001b[0m\u001b[0mbatch\u001b[0m\u001b[0;34m)\u001b[0m  \u001b[0;31m# Handle `CustomType` automatically\u001b[0m\u001b[0;34m\u001b[0m\u001b[0;34m\u001b[0m\u001b[0m\n\u001b[1;32m    264\u001b[0m     \"\"\"\n\u001b[0;32m--> 265\u001b[0;31m     \u001b[0;32mreturn\u001b[0m \u001b[0mcollate\u001b[0m\u001b[0;34m(\u001b[0m\u001b[0mbatch\u001b[0m\u001b[0;34m,\u001b[0m \u001b[0mcollate_fn_map\u001b[0m\u001b[0;34m=\u001b[0m\u001b[0mdefault_collate_fn_map\u001b[0m\u001b[0;34m)\u001b[0m\u001b[0;34m\u001b[0m\u001b[0;34m\u001b[0m\u001b[0m\n\u001b[0m",
            "\u001b[0;32m/usr/local/lib/python3.10/dist-packages/torch/utils/data/_utils/collate.py\u001b[0m in \u001b[0;36mcollate\u001b[0;34m(batch, collate_fn_map)\u001b[0m\n\u001b[1;32m    140\u001b[0m \u001b[0;34m\u001b[0m\u001b[0m\n\u001b[1;32m    141\u001b[0m         \u001b[0;32mif\u001b[0m \u001b[0misinstance\u001b[0m\u001b[0;34m(\u001b[0m\u001b[0melem\u001b[0m\u001b[0;34m,\u001b[0m \u001b[0mtuple\u001b[0m\u001b[0;34m)\u001b[0m\u001b[0;34m:\u001b[0m\u001b[0;34m\u001b[0m\u001b[0;34m\u001b[0m\u001b[0m\n\u001b[0;32m--> 142\u001b[0;31m             \u001b[0;32mreturn\u001b[0m \u001b[0;34m[\u001b[0m\u001b[0mcollate\u001b[0m\u001b[0;34m(\u001b[0m\u001b[0msamples\u001b[0m\u001b[0;34m,\u001b[0m \u001b[0mcollate_fn_map\u001b[0m\u001b[0;34m=\u001b[0m\u001b[0mcollate_fn_map\u001b[0m\u001b[0;34m)\u001b[0m \u001b[0;32mfor\u001b[0m \u001b[0msamples\u001b[0m \u001b[0;32min\u001b[0m \u001b[0mtransposed\u001b[0m\u001b[0;34m]\u001b[0m  \u001b[0;31m# Backwards compatibility.\u001b[0m\u001b[0;34m\u001b[0m\u001b[0;34m\u001b[0m\u001b[0m\n\u001b[0m\u001b[1;32m    143\u001b[0m         \u001b[0;32melse\u001b[0m\u001b[0;34m:\u001b[0m\u001b[0;34m\u001b[0m\u001b[0;34m\u001b[0m\u001b[0m\n\u001b[1;32m    144\u001b[0m             \u001b[0;32mtry\u001b[0m\u001b[0;34m:\u001b[0m\u001b[0;34m\u001b[0m\u001b[0;34m\u001b[0m\u001b[0m\n",
            "\u001b[0;32m/usr/local/lib/python3.10/dist-packages/torch/utils/data/_utils/collate.py\u001b[0m in \u001b[0;36m<listcomp>\u001b[0;34m(.0)\u001b[0m\n\u001b[1;32m    140\u001b[0m \u001b[0;34m\u001b[0m\u001b[0m\n\u001b[1;32m    141\u001b[0m         \u001b[0;32mif\u001b[0m \u001b[0misinstance\u001b[0m\u001b[0;34m(\u001b[0m\u001b[0melem\u001b[0m\u001b[0;34m,\u001b[0m \u001b[0mtuple\u001b[0m\u001b[0;34m)\u001b[0m\u001b[0;34m:\u001b[0m\u001b[0;34m\u001b[0m\u001b[0;34m\u001b[0m\u001b[0m\n\u001b[0;32m--> 142\u001b[0;31m             \u001b[0;32mreturn\u001b[0m \u001b[0;34m[\u001b[0m\u001b[0mcollate\u001b[0m\u001b[0;34m(\u001b[0m\u001b[0msamples\u001b[0m\u001b[0;34m,\u001b[0m \u001b[0mcollate_fn_map\u001b[0m\u001b[0;34m=\u001b[0m\u001b[0mcollate_fn_map\u001b[0m\u001b[0;34m)\u001b[0m \u001b[0;32mfor\u001b[0m \u001b[0msamples\u001b[0m \u001b[0;32min\u001b[0m \u001b[0mtransposed\u001b[0m\u001b[0;34m]\u001b[0m  \u001b[0;31m# Backwards compatibility.\u001b[0m\u001b[0;34m\u001b[0m\u001b[0;34m\u001b[0m\u001b[0m\n\u001b[0m\u001b[1;32m    143\u001b[0m         \u001b[0;32melse\u001b[0m\u001b[0;34m:\u001b[0m\u001b[0;34m\u001b[0m\u001b[0;34m\u001b[0m\u001b[0m\n\u001b[1;32m    144\u001b[0m             \u001b[0;32mtry\u001b[0m\u001b[0;34m:\u001b[0m\u001b[0;34m\u001b[0m\u001b[0;34m\u001b[0m\u001b[0m\n",
            "\u001b[0;32m/usr/local/lib/python3.10/dist-packages/torch/utils/data/_utils/collate.py\u001b[0m in \u001b[0;36mcollate\u001b[0;34m(batch, collate_fn_map)\u001b[0m\n\u001b[1;32m    148\u001b[0m                 \u001b[0;32mreturn\u001b[0m \u001b[0;34m[\u001b[0m\u001b[0mcollate\u001b[0m\u001b[0;34m(\u001b[0m\u001b[0msamples\u001b[0m\u001b[0;34m,\u001b[0m \u001b[0mcollate_fn_map\u001b[0m\u001b[0;34m=\u001b[0m\u001b[0mcollate_fn_map\u001b[0m\u001b[0;34m)\u001b[0m \u001b[0;32mfor\u001b[0m \u001b[0msamples\u001b[0m \u001b[0;32min\u001b[0m \u001b[0mtransposed\u001b[0m\u001b[0;34m]\u001b[0m\u001b[0;34m\u001b[0m\u001b[0;34m\u001b[0m\u001b[0m\n\u001b[1;32m    149\u001b[0m \u001b[0;34m\u001b[0m\u001b[0m\n\u001b[0;32m--> 150\u001b[0;31m     \u001b[0;32mraise\u001b[0m \u001b[0mTypeError\u001b[0m\u001b[0;34m(\u001b[0m\u001b[0mdefault_collate_err_msg_format\u001b[0m\u001b[0;34m.\u001b[0m\u001b[0mformat\u001b[0m\u001b[0;34m(\u001b[0m\u001b[0melem_type\u001b[0m\u001b[0;34m)\u001b[0m\u001b[0;34m)\u001b[0m\u001b[0;34m\u001b[0m\u001b[0;34m\u001b[0m\u001b[0m\n\u001b[0m\u001b[1;32m    151\u001b[0m \u001b[0;34m\u001b[0m\u001b[0m\n\u001b[1;32m    152\u001b[0m \u001b[0;34m\u001b[0m\u001b[0m\n",
            "\u001b[0;31mTypeError\u001b[0m: default_collate: batch must contain tensors, numpy arrays, numbers, dicts or lists; found <class 'PIL.Image.Image'>"
          ]
        }
      ]
    },
    {
      "cell_type": "code",
      "source": [],
      "metadata": {
        "id": "AlbqTfLzCrzX"
      },
      "execution_count": null,
      "outputs": []
    }
  ]
}