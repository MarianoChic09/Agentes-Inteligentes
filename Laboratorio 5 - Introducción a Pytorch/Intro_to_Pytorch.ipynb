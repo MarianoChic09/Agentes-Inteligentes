{
  "cells": [
    {
      "cell_type": "markdown",
      "metadata": {
        "id": "yLeDXUNk0zCH"
      },
      "source": [
        "# Pytorch\n",
        "\n",
        "https://pytorch.org/\n",
        "https://pytorch.org/tutorials/\n",
        "https://pytorch.org/docs/stable/index.html\n",
        "\n",
        "Pytorch es un framework de machine learning que nos permite rápidamente diseñar, entrenar y testear modelos de machine learning (en particular, redes neuronales). \n",
        "\n",
        "Vamos a utilizar este framework para implementar el obligatorio del curso, por eso, en la clase de hoy vamos a ver una breve introduccion al framework y las redes neuronales. Vamos a prestar detallada atencion a dos tipos de modelos: las redes FeedForward (neuronas que se conectan entre sí en una modalidad de \"cascada secuencial\").\n",
        "\n",
        "Este notebook debería servir como base para implementar todas las operaciones necesarias para resolver el obligatorio, así como tambien cualquier otra tarea básica de Deep Learning.\n",
        "\n",
        "### A Entregar:\n",
        "\n",
        "- Este mismo notebook con la solucion a todos los problemas planteados. Pueden trabajar en grupos de hasta 3 estudiantes."
      ]
    },
    {
      "cell_type": "code",
      "execution_count": 6,
      "metadata": {
        "id": "RoKE5aQswzaK"
      },
      "outputs": [],
      "source": [
        "import torch\n",
        "import numpy as np"
      ]
    },
    {
      "cell_type": "markdown",
      "source": [
        "### Creación de tensores.\n",
        "Los tensores pueden crearse con listas o numpy arrays"
      ],
      "metadata": {
        "id": "G7MhfWbGxCZo"
      }
    },
    {
      "cell_type": "code",
      "execution_count": 7,
      "metadata": {
        "colab": {
          "base_uri": "https://localhost:8080/"
        },
        "id": "labMfKXmoh_N",
        "outputId": "7fd7a5e2-dc80-44bb-a41d-76ce4f6d4dde"
      },
      "outputs": [
        {
          "output_type": "execute_result",
          "data": {
            "text/plain": [
              "tensor([[ 1., -1.],\n",
              "        [ 1., -1.]])"
            ]
          },
          "metadata": {},
          "execution_count": 7
        }
      ],
      "source": [
        "torch.tensor([[1., -1.], [1., -1.]])"
      ]
    },
    {
      "cell_type": "code",
      "execution_count": 8,
      "metadata": {
        "colab": {
          "base_uri": "https://localhost:8080/"
        },
        "id": "j3sjdOL4oiBf",
        "outputId": "a3005d9b-e8ab-4df1-9465-e54221f69214"
      },
      "outputs": [
        {
          "output_type": "execute_result",
          "data": {
            "text/plain": [
              "tensor([[1, 2, 3],\n",
              "        [4, 5, 6]])"
            ]
          },
          "metadata": {},
          "execution_count": 8
        }
      ],
      "source": [
        "torch.tensor(np.array([[1, 2, 3], [4, 5, 6]]))"
      ]
    },
    {
      "cell_type": "code",
      "execution_count": 9,
      "metadata": {
        "colab": {
          "base_uri": "https://localhost:8080/"
        },
        "id": "nBCKc9UDoiDk",
        "outputId": "ab8e6bed-5432-4c5a-b420-3a3f2106d3ab"
      },
      "outputs": [
        {
          "output_type": "execute_result",
          "data": {
            "text/plain": [
              "tensor([[0, 0, 0, 0],\n",
              "        [0, 0, 0, 0]], dtype=torch.int32)"
            ]
          },
          "metadata": {},
          "execution_count": 9
        }
      ],
      "source": [
        "torch.zeros([2, 4], dtype=torch.int32)"
      ]
    },
    {
      "cell_type": "markdown",
      "metadata": {
        "id": "piO2t-O1wzaM"
      },
      "source": [
        "### Manipulación de tensores.\n",
        "Los tensores pueden accederse mediante las directivas de slicing y e indexación de python"
      ]
    },
    {
      "cell_type": "code",
      "execution_count": 10,
      "metadata": {
        "colab": {
          "base_uri": "https://localhost:8080/"
        },
        "id": "QiAEqy3IwzaN",
        "outputId": "ebd1a09e-036f-4d72-c606-86f17bcdcc40"
      },
      "outputs": [
        {
          "output_type": "stream",
          "name": "stdout",
          "text": [
            "tensor(6)\n",
            "tensor([[1, 8, 3],\n",
            "        [4, 5, 6]])\n"
          ]
        }
      ],
      "source": [
        "x = torch.tensor([[1, 2, 3], [4, 5, 6]])\n",
        "print(x[1][2])\n",
        "x[0][1] = 8\n",
        "print(x)"
      ]
    },
    {
      "cell_type": "markdown",
      "metadata": {
        "id": "OHrP55WEwzaN"
      },
      "source": [
        "### Operaciones sobre tensores."
      ]
    },
    {
      "cell_type": "code",
      "execution_count": 11,
      "metadata": {
        "id": "jZGs8ee8wzaN"
      },
      "outputs": [],
      "source": [
        "x = torch.tensor([1., 2., 3.])\n",
        "y = torch.tensor(2)\n",
        "z = torch.randn(1, 3)"
      ]
    },
    {
      "cell_type": "code",
      "execution_count": 12,
      "metadata": {
        "colab": {
          "base_uri": "https://localhost:8080/"
        },
        "id": "qtLvPMTKwzaN",
        "outputId": "8fb5620a-2568-4ad9-97ba-e434b550b363"
      },
      "outputs": [
        {
          "output_type": "execute_result",
          "data": {
            "text/plain": [
              "tensor([3., 4., 5.])"
            ]
          },
          "metadata": {},
          "execution_count": 12
        }
      ],
      "source": [
        "x + y"
      ]
    },
    {
      "cell_type": "code",
      "execution_count": 13,
      "metadata": {
        "colab": {
          "base_uri": "https://localhost:8080/"
        },
        "id": "NOTJdmP8wzaN",
        "outputId": "d3e81d71-6cf3-4550-df43-c6a06ac2aec7"
      },
      "outputs": [
        {
          "output_type": "execute_result",
          "data": {
            "text/plain": [
              "tensor([2., 4., 6.])"
            ]
          },
          "metadata": {},
          "execution_count": 13
        }
      ],
      "source": [
        "x * y"
      ]
    },
    {
      "cell_type": "code",
      "execution_count": 14,
      "metadata": {
        "colab": {
          "base_uri": "https://localhost:8080/"
        },
        "id": "fY1i2d2OwzaO",
        "outputId": "92c0dec7-62d6-41ed-ca5e-d04755ad3364"
      },
      "outputs": [
        {
          "output_type": "execute_result",
          "data": {
            "text/plain": [
              "tensor([0.5000, 1.0000, 1.5000])"
            ]
          },
          "metadata": {},
          "execution_count": 14
        }
      ],
      "source": [
        "x / y"
      ]
    },
    {
      "cell_type": "code",
      "execution_count": 15,
      "metadata": {
        "colab": {
          "base_uri": "https://localhost:8080/"
        },
        "id": "OnHa9gq-wzaO",
        "outputId": "94952b0d-169c-49d2-a73f-9242eb2a586c"
      },
      "outputs": [
        {
          "output_type": "execute_result",
          "data": {
            "text/plain": [
              "tensor([-1.7278])"
            ]
          },
          "metadata": {},
          "execution_count": 15
        }
      ],
      "source": [
        "r = torch.mv(z, x) # producto vectorial\n",
        "r"
      ]
    },
    {
      "cell_type": "code",
      "execution_count": 16,
      "metadata": {
        "colab": {
          "base_uri": "https://localhost:8080/"
        },
        "id": "V8pqRfApwzaO",
        "outputId": "57879a75-3874-48b9-f852-c1b36185bee7"
      },
      "outputs": [
        {
          "output_type": "execute_result",
          "data": {
            "text/plain": [
              "tensor([[-1.9059, -0.7506, -5.9381, -0.1977],\n",
              "        [-1.3840, -0.6189, -4.9002,  0.5975]])"
            ]
          },
          "metadata": {},
          "execution_count": 16
        }
      ],
      "source": [
        "mat1 = torch.randn(2, 3)\n",
        "mat2 = torch.randn(3, 4)\n",
        "r = torch.mm(mat1, mat2) # producto matricial (matricial multiplication??)\n",
        "r"
      ]
    },
    {
      "cell_type": "markdown",
      "metadata": {
        "id": "nMjzwdkNwzaO"
      },
      "source": [
        "### Metadata"
      ]
    },
    {
      "cell_type": "code",
      "execution_count": 17,
      "metadata": {
        "colab": {
          "base_uri": "https://localhost:8080/"
        },
        "id": "jhfN-4NPwzaP",
        "outputId": "2a97369e-4bac-455d-eb99-df08aa22c71f"
      },
      "outputs": [
        {
          "output_type": "stream",
          "name": "stdout",
          "text": [
            "torch.Size([2, 3])\n",
            "6\n"
          ]
        }
      ],
      "source": [
        "w = torch.tensor([[1,2,3],[4,5,6]])\n",
        "print(w.size())                      \n",
        "print(torch.numel(w))"
      ]
    },
    {
      "cell_type": "markdown",
      "metadata": {
        "id": "boBhjVbRwzaP"
      },
      "source": [
        "### Resizing (reshaping)"
      ]
    },
    {
      "cell_type": "code",
      "execution_count": 18,
      "metadata": {
        "colab": {
          "base_uri": "https://localhost:8080/"
        },
        "id": "XqY8n9newzaP",
        "outputId": "64fa1428-7b2a-44ad-a564-b64decda399f"
      },
      "outputs": [
        {
          "output_type": "stream",
          "name": "stdout",
          "text": [
            "Size of x: torch.Size([2, 3])\n",
            "Size of y: torch.Size([6])\n",
            "Size of z: torch.Size([3, 2])\n"
          ]
        }
      ],
      "source": [
        "x = torch.randn(2, 3)   \n",
        "print('Size of x:', x.size())\n",
        "y = x.view(6) # genera una vista de x con 6 elementos\n",
        "print('Size of y:', y.size())\n",
        "z = x.view(-1, 2) # genera una vista de x con 2 columnas (-1 es una wildcard es decir, lo que sea por 2)\n",
        "print('Size of z:', z.size())"
      ]
    },
    {
      "cell_type": "markdown",
      "metadata": {
        "id": "7GamkLndwzaP"
      },
      "source": [
        "Es una referencia, es decir cambia el elemento en memoria (si cambio y cambio x por ejemplo) -> Es una vista. "
      ]
    },
    {
      "cell_type": "markdown",
      "metadata": {
        "id": "oSK1Em_wwzaP"
      },
      "source": [
        "### Cálculo de gradientes\n",
        "Pytorch habilita al cálculo automático de gradientes (autograd)"
      ]
    },
    {
      "cell_type": "code",
      "execution_count": 19,
      "metadata": {
        "colab": {
          "base_uri": "https://localhost:8080/"
        },
        "id": "PPqxe9VywzaQ",
        "outputId": "e7b246a5-979d-495e-d43c-0b3cd8207a26"
      },
      "outputs": [
        {
          "output_type": "stream",
          "name": "stdout",
          "text": [
            "None\n",
            "tensor(1., grad_fn=<MeanBackward0>)\n",
            "tensor([[ 0.5000, -0.5000],\n",
            "        [ 0.5000,  0.5000]])\n"
          ]
        }
      ],
      "source": [
        "x = torch.tensor([[1., -1.], [1., 1.]], requires_grad=True)\n",
        "print(x.grad)\n",
        "out = x.pow(2).mean()\n",
        "print(out)\n",
        "out.backward()\n",
        "\n",
        "print(x.grad)"
      ]
    },
    {
      "cell_type": "markdown",
      "metadata": {
        "id": "Hur5OGlgj-Ct"
      },
      "source": [
        "## Uso automático de GPU\n",
        "\n",
        "En Colab tenemos 12 Horas de GPU gratis para usar (cambiando el runtime type), esto nos permite entrenar modelos de DL mucho mas rápido. La celda de código abajo detecta si tenemos una GPU disponible o no y nos va a permitir escribir código genérico para cualquier dispositivo.\n",
        "\n",
        "***\n",
        "Recomendamos fuertemente utilizar CPU lo más posible mientras probamos código y usar la GPU solo para cuando sabemos que todo funciona y queremos obtener resultados. "
      ]
    },
    {
      "cell_type": "code",
      "execution_count": 20,
      "metadata": {
        "colab": {
          "base_uri": "https://localhost:8080/"
        },
        "id": "bh4qtotEwzaQ",
        "outputId": "edf5a8d7-d12a-440f-c9b4-ad89733bf5dd"
      },
      "outputs": [
        {
          "output_type": "stream",
          "name": "stdout",
          "text": [
            "Pytorch CUDA Version is  11.8\n"
          ]
        }
      ],
      "source": [
        "torch.cuda.is_available()\n",
        "print(\"Pytorch CUDA Version is \", torch.version.cuda)\n"
      ]
    },
    {
      "cell_type": "code",
      "execution_count": 21,
      "metadata": {
        "colab": {
          "base_uri": "https://localhost:8080/"
        },
        "id": "dpnJwoJPjiOE",
        "outputId": "79539f78-3ee4-4709-9609-c6b6b2ce5d0e"
      },
      "outputs": [
        {
          "output_type": "stream",
          "name": "stdout",
          "text": [
            "cuda:0\n"
          ]
        }
      ],
      "source": [
        "DEVICE = torch.device('cuda:0' if torch.cuda.is_available() else 'cpu')\n",
        "print(DEVICE)\n",
        "\n",
        "torch.manual_seed(42)\n",
        "torch.backends.cudnn.deterministic = True"
      ]
    },
    {
      "cell_type": "code",
      "execution_count": 22,
      "metadata": {
        "colab": {
          "base_uri": "https://localhost:8080/"
        },
        "id": "EbvuXJQAosTl",
        "outputId": "cbb967e2-c913-43d7-90fa-a7273556ebd3"
      },
      "outputs": [
        {
          "output_type": "stream",
          "name": "stdout",
          "text": [
            "CPU time:\n",
            "119 ms ± 13.7 ms per loop (mean ± std. dev. of 7 runs, 10 loops each)\n",
            " \n",
            "GPU time:\n",
            "The slowest run took 4.26 times longer than the fastest. This could mean that an intermediate result is being cached.\n",
            "32.5 µs ± 24.2 µs per loop (mean ± std. dev. of 7 runs, 1 loop each)\n"
          ]
        }
      ],
      "source": [
        "x = torch.rand(2, 900000).cpu()            # Initialize with random number (uniform distribution)\n",
        "y = torch.randn(900000,200).cpu()           # With normal distribution (SD=1, mean=0)\n",
        "z = torch.randperm(200).cpu()           # Size 200. Random permutation of integers from 0 to 200\n",
        "\n",
        "print('CPU time:')\n",
        "%timeit torch.mm(x,y)+z\n",
        "\n",
        "x = torch.rand(2, 900000).cuda()            \n",
        "y = torch.randn(900000,200).cuda()          \n",
        "z = torch.randperm(200).to(DEVICE)  # Manda al tensor al dispositivo que le pasamos (en este caso cuda:0)\n",
        "\n",
        "print(' ')\n",
        "print('GPU time:')\n",
        "%timeit torch.mm(x,y)+z "
      ]
    },
    {
      "cell_type": "code",
      "execution_count": 23,
      "metadata": {
        "colab": {
          "base_uri": "https://localhost:8080/",
          "height": 499
        },
        "id": "JpVIgjO52Uou",
        "outputId": "119e8ab5-2532-456f-d244-e88c9e9678e1"
      },
      "outputs": [
        {
          "output_type": "stream",
          "name": "stdout",
          "text": [
            "Tamaño del dataset 60000 imagenes.\n",
            "Clases posibles: ['T-shirt/top', 'Trouser', 'Pullover', 'Dress', 'Coat', 'Sandal', 'Shirt', 'Sneaker', 'Bag', 'Ankle boot']\n",
            "Objeto imagen: <PIL.Image.Image image mode=L size=28x28 at 0x7FE64750EA10> - Clase 9\n",
            "Detalles de la imagen (28, 28) pixeles\n"
          ]
        },
        {
          "output_type": "display_data",
          "data": {
            "text/plain": [
              "<Figure size 640x480 with 1 Axes>"
            ],
            "image/png": "[encoded data removed]"
          },
          "metadata": {}
        }
      ],
      "source": [
        "import matplotlib.pyplot as plt\n",
        "import torchvision.datasets as dsets\n",
        "\n",
        "mnist_dataset = dsets.FashionMNIST(\"ruta_donde_guardar_datos\", download=True)\n",
        "\n",
        "print(f\"Tamaño del dataset {len(mnist_dataset)} imagenes.\")\n",
        "print(f\"Clases posibles: {mnist_dataset.classes}\")\n",
        "\n",
        "data_idx = 0  # Indice (0-59999) de la imagen que queremos ver\n",
        "image, label = mnist_dataset[0] \n",
        "\n",
        "print(f\"Objeto imagen: {image} - Clase {label}\")\n",
        "print(f\"Detalles de la imagen {image.size} pixeles\")\n",
        "\n",
        "plt.imshow(image, cmap='gray')\n",
        "plt.show()"
      ]
    },
    {
      "cell_type": "markdown",
      "metadata": {
        "id": "Nl8qO_Sf2WZ1"
      },
      "source": [
        "## FeedForward networks\n",
        "\n",
        "Son la unidad más simple de red neuronal, con su origen en el perceptron de muchas capas. La idea es crear una secuencia lineal de neuronas (capa) que reciben nuestro input. \n",
        "\n",
        "![Image](https://upload.wikimedia.org/wikipedia/commons/c/c2/MultiLayerNeuralNetworkBigger_english.png)\n",
        "\n",
        "De esta manera la primera capa de neuronas (input layer) recibe los datos y las capas subsiguientes reciben el resultados de capas anteriores. La última capa (output layer) es la encargada de generar una predicción a partir de nuestros inputs.\n",
        "\n",
        "***\n",
        "\n",
        "En este notebook vamos a usar un dataset muy simple y conocido de imágenes, Fashion-MNIST. Se trata de un dataset de ropa y calzado, la idea es usar redes neuronales para clasificar cada una de las imágenes el tipo de ropa que representa. \n",
        "\n",
        "Para trabajar con imagenes vamos a hacer uso de una librería complementaria a Pytorch: **torchvision** (https://pytorch.org/docs/stable/torchvision/index.html) que incluye varios datasets precargados, modelos preentrenados y algunas utilidades para trabajar con imágenes que nos van a resultar útiles.\n",
        "\n",
        "*** \n",
        "\n",
        "En la celda de abajo vamos a carga nuestro dataset y mostrar algunas imagenes de ejemplo.\n"
      ]
    },
    {
      "cell_type": "markdown",
      "metadata": {
        "id": "peWiTvQq2Uua"
      },
      "source": [
        "### Clasificador\n",
        "\n",
        "Ahora que tenemos una idea de como es nuestro dataset, vamos a crear un modelo FeedForward para predecir la clase de la imagen que usemos como input. \n",
        "\n",
        "Antes que nada, vamos a necesitar dividir el dataset total en conjuntos de **entrenamiento**, **validacion** y **test**. Vamos a usar un ratio de 80 y 20% respectivamente. El set de test se puede descargar por separado con torchvision. Además, vamos a necesitar una manera de cargar **batches** de datos a la vez, para entrenar nuestra red. Pytorch nos proporciona varias ayudas para esto.\n",
        "\n",
        "***\n",
        "\n",
        "Finalmente, queda aclarar el uso de **tranformaciones** sobre las imágenes. Por lo pronto, tenemos objetos de tipo PIL Image, necesitamos (al menos) convertirlos en Tensores, para que Pytorch los pueda manejar.\n",
        "\n",
        "Hay un numero inmenso de transformaciones posibles que podemos usar en nustras imagenes, en este caso basta con tranformarlas a tensores, pero dejamos este link para otros casos: https://pytorch.org/docs/stable/torchvision/transforms.html\n"
      ]
    },
    {
      "cell_type": "code",
      "execution_count": 24,
      "metadata": {
        "id": "sTFVIJZwwzaS"
      },
      "outputs": [],
      "source": [
        "#Esto nos permite cambiarle la forma a un tensor aplicandole una transformacion. \n",
        "\n",
        "class ReshapeTransform:\n",
        "    def __init__(self, new_size):\n",
        "        self.new_size = new_size\n",
        "\n",
        "    def __call__(self, img):\n",
        "        return torch.reshape(img, self.new_size)"
      ]
    },
    {
      "cell_type": "code",
      "execution_count": 25,
      "metadata": {
        "id": "PVBOfbYX2UzC"
      },
      "outputs": [],
      "source": [
        "import torchvision.transforms as transforms\n",
        "# primero vamos a entrenar un perceptron \n",
        "img_transforms = transforms.Compose([transforms.ToTensor(), ReshapeTransform((-1,))]) # Reshape con -1 va a aplanar la matriz. Hay que aplanar la imagen.\n",
        "\n",
        "# Descargamos los datasets\n",
        "mnist_train_dataset = dsets.FashionMNIST(\"ruta_donde_guardar_datos\", download=True, train=True, transform=img_transforms)\n",
        "\n",
        "# Separamos el train set en train y validation\n",
        "train_set, val_set = torch.utils.data.random_split(mnist_train_dataset, [int(0.8 * len(mnist_train_dataset)), int(0.2 * len(mnist_train_dataset))])\n",
        "\n",
        "mnist_test_dataset = dsets.FashionMNIST(\"ruta_donde_guardar_datos\", download=True, train=False, transform=img_transforms)\n",
        "\n",
        "# Creamos objetos DataLoader (https://pytorch.org/docs/stable/data.html) que nos va a permitir crear batches de data automaticamente.\n",
        "\n",
        "# Cuantas imagenes obtener en cada iteracion!\n",
        "BATCH_SIZE = 64\n",
        "\n",
        "# Creamos los loaders\n",
        "train_loader = torch.utils.data.DataLoader(train_set, batch_size=BATCH_SIZE, shuffle=True, num_workers=2) # este carga los datos en la forma del batch size que defini, shuffle ordena aleatoriamente\n",
        "val_loader = torch.utils.data.DataLoader(val_set, batch_size=BATCH_SIZE, shuffle=False, num_workers=2)\n",
        "\n",
        "test_loader = torch.utils.data.DataLoader(mnist_test_dataset, batch_size=BATCH_SIZE, shuffle=False, num_workers=2)"
      ]
    },
    {
      "cell_type": "markdown",
      "metadata": {
        "id": "EKgtfpeArQPd"
      },
      "source": [
        "### Modelo\n",
        "\n",
        "Vamos a considerar cada imagen como un tensor de una sola dimensión, de largo 28*28 = 784. Cada uno de esos valores representa el valor de un pixel de nuestra imagen original.\n",
        "\n",
        "Nuestra red va a recibir ese tensor como input (en realidad, un batch de tensores de largo 784) que va a ser trabajado por varias capas ocultas con diferente número de neuronas hasta llegar a una capa de salida con 10 outputs, 1 por cada clase posible.\n",
        "\n",
        "***\n",
        "\n",
        "Vamos utilizar capas conectadas totalmente, tambien conocidas como Fully Connected, Dense, o Linear en Pytorch (https://pytorch.org/docs/stable/nn.html). Para crearlas necesitamos especificar las dimensiones del tensor de entrada, y el de salida; luego internamente Pytorch genera la matriz de pesos por los cuales multiplicar la entrada para generar la salida. Luego de cada una de estas operaciones necesitamos usar una funcion de activacion no linear, en este caso, vamos a usar ReLU: https://pytorch.org/docs/stable/nn.html#relu. \n",
        "\n",
        "***\n",
        "\n",
        "Para implementar un modelo **cualquiera** alcanza con definir un metodo **init** donde especificamos la arquitectura del mismo, y un método **forward** donde especificamos cómo interactúan nuestras capas frente a un nuevo input.\n",
        "\n",
        "***\n",
        "\n"
      ]
    },
    {
      "cell_type": "code",
      "execution_count": 26,
      "metadata": {
        "colab": {
          "base_uri": "https://localhost:8080/"
        },
        "id": "h-SZey-Qqj1P",
        "outputId": "13755030-49f4-4e09-a598-e3d0217d6daa"
      },
      "outputs": [
        {
          "output_type": "execute_result",
          "data": {
            "text/plain": [
              "FeedForwardModel(\n",
              "  (linear1): Linear(in_features=784, out_features=128, bias=True)\n",
              "  (linear2): Linear(in_features=128, out_features=64, bias=True)\n",
              "  (output): Linear(in_features=64, out_features=10, bias=True)\n",
              ")"
            ]
          },
          "metadata": {},
          "execution_count": 26
        }
      ],
      "source": [
        "# Definicion del modelo que vamos a usar. En Pytorch los modelos se definen como clases, que heredan de nn.Module\n",
        "import torch.nn as nn # Este nos va a dar las capas \n",
        "import torch.nn.functional as F # este nos da las funciones de activación. \n",
        "\n",
        "\n",
        "class FeedForwardModel(nn.Module):\n",
        "\n",
        "    def __init__(self, number_classes=10,input_features=784):\n",
        "        super(FeedForwardModel, self).__init__()\n",
        "        self.linear1 = nn.Linear(in_features=input_features, out_features=128) # 784*128 +128 (bias)\n",
        "        self.linear2 = nn.Linear(in_features=128, out_features=64) # 128*64 + 64 (bias)\n",
        "        self.output = nn.Linear(in_features=64, out_features=number_classes) #64*10 +10 (bias)\n",
        "  \n",
        "    def forward(self, new_input): # este es el que une todo, y ordena primero la ANN que tiene 784 entradas y 128 salidas, después 128 x 64 y despues 64 x number_classes\n",
        "        result = F.relu(self.linear1(new_input))\n",
        "        result = F.relu(self.linear2(result))\n",
        "        logits = self.output(result)\n",
        "\n",
        "        return logits\n",
        "\n",
        "\n",
        "model = FeedForwardModel(number_classes=10,input_features=28*28*1) # nos falta el softmax acá y la función de pérdida. \n",
        "model"
      ]
    },
    {
      "cell_type": "markdown",
      "metadata": {
        "id": "sYv_kROa0o54"
      },
      "source": [
        "### Entrenando el modelo\n",
        "\n",
        "Para entrenar un modelo necesitamos una funcion de costo o pérdida (normalmente referida como loss function: https://pytorch.org/docs/stable/nn.html#loss-functions). En este curso no nos vamos a meter en mucho detalle sobre las funciones de costo, para este ejercicio y el siguiente vamos a usar la CrossEntropyLoss, y cuando necesiten otra la vamos a especificar.\n",
        "\n",
        "El objetivo de esta funcion es darnos un valor de que tan malas fueron las predicciones del modelo respecto a los valores de verdad. Haciendo uso de backpropagation y del gradiente de esta funcion podemos optimizar los pesos de nuestra red tal que \"aprenda\" a hacer mejores predicciones. De nuevo, la lógica detras de toda esta optimización no nos compete en este curso y lo dejamos para la disciplina de Deep Learning.\n",
        "\n",
        "***\n",
        "Como mencionamos arriba, el costo de computa usando las predicciones del modelo y las etiquetas verdaderas de nuestros datos y, el trabajo de actualizar los pesos usando los gradientes lo realiza un optimizador de Pytorch: https://pytorch.org/docs/stable/optim.html."
      ]
    },
    {
      "cell_type": "code",
      "execution_count": 27,
      "metadata": {
        "id": "kYtCjd9cqj3x"
      },
      "outputs": [],
      "source": [
        "import torch.optim as optim\n",
        "\n",
        "LEARNING_RATE = 0.003\n",
        "\n",
        "ff_model = FeedForwardModel(number_classes=10).to(DEVICE)\n",
        "criterion = nn.CrossEntropyLoss().to(DEVICE)\n",
        "ff_optimizer = optim.SGD(ff_model.parameters(), lr=LEARNING_RATE, momentum=0.9)"
      ]
    },
    {
      "cell_type": "code",
      "execution_count": 28,
      "metadata": {
        "id": "zBEV-LNsqj6o",
        "scrolled": true
      },
      "outputs": [],
      "source": [
        "def train_model(model, train_loader, val_loader, loss_func, optimizer, epochs):\n",
        "    for epoch in range(epochs):  # Iteramos sobre el dataset entero muchas veces\n",
        "\n",
        "        running_loss = 0.0  \n",
        "\n",
        "        for i, data in enumerate(train_loader):\n",
        "            # Nuestros datos son imagenes y la clase de cada una.\n",
        "            images, labels = data\n",
        "            images = images.to(DEVICE)\n",
        "            labels = labels.to(DEVICE)\n",
        "\n",
        "            # Reseteamos los gradientes de los pesos del modelo.\n",
        "            optimizer.zero_grad()   \n",
        "\n",
        "            # Obtenemos las predicciones para las nuevas imagenes llamando a nuestro modelo.\n",
        "            predictions = model(images)    \n",
        "\n",
        "            # Calulamos el costo de nuestras predicciones respecto a la verdad\n",
        "            loss = loss_func(predictions, labels)\n",
        "\n",
        "            # Computamos los gradientes con backward y actualizamos los pesos con un optimizer.step()\n",
        "            loss.backward()\n",
        "            optimizer.step()\n",
        "\n",
        "            # Estadísiticas\n",
        "            running_loss += loss.item()\n",
        "            if i % 500 == 499:    # Imprimimos luego de 1000 batches de datos\n",
        "                print(f\"Epoch: {epoch + 1}, Batch: {i + 1} - Loss: {running_loss / 500:.5f}\")\n",
        "                running_loss = 0.0\n",
        "\n",
        "\n",
        "        # Luego de cada epoch de entrenamiento vemos la performance (accuracy) en el set de validacion\n",
        "        with torch.no_grad():\n",
        "            correct_predictions = 0.0\n",
        "\n",
        "            for i, data in enumerate(val_loader):\n",
        "                images, labels = data\n",
        "                images = images.to(DEVICE)\n",
        "                labels = labels.to(DEVICE)\n",
        "\n",
        "                predictions = model(images)\n",
        "                predictions = torch.argmax(predictions, dim=1)\n",
        "\n",
        "                correct_predictions += (predictions == labels).detach().cpu().float().sum().item()\n",
        "\n",
        "        print(f\"Validation accuracy {(100 * correct_predictions / len(val_loader.dataset)):.2f} %\")\n",
        "\n",
        "    return model"
      ]
    },
    {
      "cell_type": "code",
      "execution_count": 29,
      "metadata": {
        "id": "leKy45f4N0q8"
      },
      "outputs": [],
      "source": [
        "def test_model(model, test_loader):\n",
        "    # Finalmente Reportamos la performance en el test set:\n",
        "    with torch.no_grad():\n",
        "        correct_predictions = 0.0\n",
        "\n",
        "        for i, data in enumerate(test_loader):\n",
        "            images, labels = data\n",
        "            images = images.to(DEVICE)\n",
        "            labels = labels.to(DEVICE)\n",
        "\n",
        "            predictions = model(images)\n",
        "            predictions = torch.argmax(predictions, dim=1)\n",
        "\n",
        "            correct_predictions += (predictions == labels).detach().cpu().float().sum().item()\n",
        "\n",
        "    print(f\"Test set accuracy {(100 * correct_predictions / len(test_loader.dataset)):.2f} %\")"
      ]
    },
    {
      "cell_type": "code",
      "execution_count": 30,
      "metadata": {
        "colab": {
          "base_uri": "https://localhost:8080/"
        },
        "id": "w-V0wOf6wzaU",
        "outputId": "dc4036a7-8957-43eb-c6ba-0bd0faddf2d4"
      },
      "outputs": [
        {
          "output_type": "stream",
          "name": "stdout",
          "text": [
            "Epoch: 1, Batch: 500 - Loss: 1.24651\n",
            "Validation accuracy 76.90 %\n",
            "Epoch: 2, Batch: 500 - Loss: 0.59287\n",
            "Validation accuracy 81.33 %\n",
            "Epoch: 3, Batch: 500 - Loss: 0.50072\n",
            "Validation accuracy 82.85 %\n",
            "Epoch: 4, Batch: 500 - Loss: 0.45676\n",
            "Validation accuracy 83.65 %\n",
            "Epoch: 5, Batch: 500 - Loss: 0.43448\n",
            "Validation accuracy 83.58 %\n",
            "Epoch: 6, Batch: 500 - Loss: 0.41165\n",
            "Validation accuracy 84.83 %\n",
            "Epoch: 7, Batch: 500 - Loss: 0.39841\n",
            "Validation accuracy 85.12 %\n",
            "Epoch: 8, Batch: 500 - Loss: 0.38495\n",
            "Validation accuracy 86.04 %\n",
            "Epoch: 9, Batch: 500 - Loss: 0.37332\n",
            "Validation accuracy 86.17 %\n",
            "Epoch: 10, Batch: 500 - Loss: 0.35436\n",
            "Validation accuracy 86.42 %\n",
            "Epoch: 11, Batch: 500 - Loss: 0.34561\n",
            "Validation accuracy 86.28 %\n",
            "Epoch: 12, Batch: 500 - Loss: 0.33592\n",
            "Validation accuracy 87.06 %\n",
            "Epoch: 13, Batch: 500 - Loss: 0.33684\n",
            "Validation accuracy 87.16 %\n",
            "Epoch: 14, Batch: 500 - Loss: 0.32128\n",
            "Validation accuracy 87.38 %\n",
            "Epoch: 15, Batch: 500 - Loss: 0.31438\n",
            "Validation accuracy 87.08 %\n",
            "Test set accuracy 86.33 %\n"
          ]
        }
      ],
      "source": [
        "# Usando las funciones definidas arriba entrenar un modelo es trivial\n",
        "\n",
        "ff_model = train_model(ff_model, train_loader, val_loader, loss_func=criterion, optimizer=ff_optimizer, epochs=15)\n",
        "test_model(ff_model, test_loader)"
      ]
    },
    {
      "cell_type": "markdown",
      "metadata": {
        "id": "7KBYY3PVwzaU"
      },
      "source": [
        "## Tarea 1\n",
        "\n",
        "Cree y entrene un modelo de red FeedForward que funcione mejor que el visto en clase. Puede usar lo que considere necesario (siempre dentro del mundo de redes feed forward - nada de convoluciones)"
      ]
    },
    {
      "cell_type": "code",
      "execution_count": 31,
      "metadata": {
        "colab": {
          "base_uri": "https://localhost:8080/"
        },
        "id": "PIyd6Fw_wzaU",
        "outputId": "bba2a2ac-e956-4995-e9f4-3333414dc776"
      },
      "outputs": [
        {
          "output_type": "execute_result",
          "data": {
            "text/plain": [
              "FeedForwardModel2(\n",
              "  (linear1): Linear(in_features=784, out_features=392, bias=True)\n",
              "  (linear2): Linear(in_features=392, out_features=128, bias=True)\n",
              "  (linear3): Linear(in_features=128, out_features=64, bias=True)\n",
              "  (output): Linear(in_features=64, out_features=10, bias=True)\n",
              ")"
            ]
          },
          "metadata": {},
          "execution_count": 31
        }
      ],
      "source": [
        "# Definicion del modelo que vamos a usar. En Pytorch los modelos se definen como clases, que heredan de nn.Module\n",
        "import torch.nn as nn # Este nos va a dar las capas \n",
        "import torch.nn.functional as F # este nos da las funciones de activación. \n",
        "\n",
        "\n",
        "class FeedForwardModel2(nn.Module):\n",
        "\n",
        "    def __init__(self, number_classes=10,input_features=784):\n",
        "        super(FeedForwardModel2, self).__init__()\n",
        "        self.linear1 = nn.Linear(in_features=input_features, out_features=392) # 784*128 +128 (bias)\n",
        "        self.linear2 = nn.Linear(in_features=392, out_features=128) # 784*128 +128 (bias)\n",
        "        self.linear3 = nn.Linear(in_features=128, out_features=64) # 128*64 + 64 (bias)\n",
        "        self.output = nn.Linear(in_features=64, out_features=number_classes) #64*10 +10 (bias)\n",
        "  \n",
        "    def forward(self, new_input): # este es el que une todo, y ordena primero la ANN que tiene 784 entradas y 128 salidas, después 128 x 64 y despues 64 x number_classes\n",
        "        result = F.relu(self.linear1(new_input))\n",
        "        result = F.relu(self.linear2(result))\n",
        "        result = F.relu(self.linear3(result))\n",
        "        logits = self.output(result)\n",
        "\n",
        "        return logits\n",
        "\n",
        "\n",
        "model = FeedForwardModel2(number_classes=10,input_features=28*28*1) # nos falta el softmax acá y la función de pérdida. \n",
        "model"
      ]
    },
    {
      "cell_type": "code",
      "source": [
        "import torch.optim as optim\n",
        "\n",
        "LEARNING_RATE = 0.003\n",
        "\n",
        "ff_model = FeedForwardModel2(number_classes=10).to(DEVICE)\n",
        "criterion = nn.CrossEntropyLoss().to(DEVICE)\n",
        "ff_optimizer = optim.SGD(ff_model.parameters(), lr=LEARNING_RATE, momentum=0.9)"
      ],
      "metadata": {
        "id": "9yedxNFr-3-x"
      },
      "execution_count": 32,
      "outputs": []
    },
    {
      "cell_type": "code",
      "execution_count": 33,
      "metadata": {
        "colab": {
          "base_uri": "https://localhost:8080/"
        },
        "id": "ynHlR3aLwzaU",
        "outputId": "f4b98e13-75d6-4126-e236-78c79b839e8a"
      },
      "outputs": [
        {
          "output_type": "stream",
          "name": "stdout",
          "text": [
            "Epoch: 1, Batch: 500 - Loss: 1.53805\n",
            "Validation accuracy 73.18 %\n",
            "Epoch: 2, Batch: 500 - Loss: 0.62605\n",
            "Validation accuracy 81.33 %\n",
            "Epoch: 3, Batch: 500 - Loss: 0.51148\n",
            "Validation accuracy 83.11 %\n",
            "Epoch: 4, Batch: 500 - Loss: 0.46496\n",
            "Validation accuracy 83.38 %\n",
            "Epoch: 5, Batch: 500 - Loss: 0.43053\n",
            "Validation accuracy 85.12 %\n",
            "Epoch: 6, Batch: 500 - Loss: 0.40668\n",
            "Validation accuracy 85.58 %\n",
            "Epoch: 7, Batch: 500 - Loss: 0.38565\n",
            "Validation accuracy 85.59 %\n",
            "Epoch: 8, Batch: 500 - Loss: 0.36876\n",
            "Validation accuracy 86.58 %\n",
            "Epoch: 9, Batch: 500 - Loss: 0.35078\n",
            "Validation accuracy 87.03 %\n",
            "Epoch: 10, Batch: 500 - Loss: 0.33507\n",
            "Validation accuracy 86.66 %\n",
            "Epoch: 11, Batch: 500 - Loss: 0.32374\n",
            "Validation accuracy 86.97 %\n",
            "Epoch: 12, Batch: 500 - Loss: 0.31516\n",
            "Validation accuracy 87.05 %\n",
            "Epoch: 13, Batch: 500 - Loss: 0.30180\n",
            "Validation accuracy 85.93 %\n",
            "Epoch: 14, Batch: 500 - Loss: 0.29347\n",
            "Validation accuracy 87.09 %\n",
            "Epoch: 15, Batch: 500 - Loss: 0.28972\n",
            "Validation accuracy 88.08 %\n",
            "Test set accuracy 87.29 %\n"
          ]
        }
      ],
      "source": [
        "# Usando las funciones definidas arriba entrenar un modelo es trivial\n",
        "\n",
        "ff_model = train_model(ff_model, train_loader, val_loader, loss_func=criterion, optimizer=ff_optimizer, epochs=15)\n",
        "test_model(ff_model, test_loader)"
      ]
    },
    {
      "cell_type": "code",
      "execution_count": 34,
      "metadata": {
        "id": "KZBm-ka0wzaU",
        "colab": {
          "base_uri": "https://localhost:8080/"
        },
        "outputId": "af6a8cd2-1c87-4434-99cf-6b556004a672"
      },
      "outputs": [
        {
          "output_type": "stream",
          "name": "stdout",
          "text": [
            "Epoch: 1, Batch: 500 - Loss: 1.34217\n",
            "Validation accuracy 79.47 %\n",
            "Epoch: 2, Batch: 500 - Loss: 0.55473\n",
            "Validation accuracy 83.27 %\n",
            "Epoch: 3, Batch: 500 - Loss: 0.45737\n",
            "Validation accuracy 83.90 %\n",
            "Epoch: 4, Batch: 500 - Loss: 0.41165\n",
            "Validation accuracy 84.71 %\n",
            "Epoch: 5, Batch: 500 - Loss: 0.38002\n",
            "Validation accuracy 86.00 %\n",
            "Epoch: 6, Batch: 500 - Loss: 0.35722\n",
            "Validation accuracy 86.23 %\n",
            "Epoch: 7, Batch: 500 - Loss: 0.34140\n",
            "Validation accuracy 87.15 %\n",
            "Epoch: 8, Batch: 500 - Loss: 0.31784\n",
            "Validation accuracy 87.27 %\n",
            "Epoch: 9, Batch: 500 - Loss: 0.31029\n",
            "Validation accuracy 87.53 %\n",
            "Epoch: 10, Batch: 500 - Loss: 0.30041\n",
            "Validation accuracy 87.78 %\n",
            "Epoch: 11, Batch: 500 - Loss: 0.28542\n",
            "Validation accuracy 87.81 %\n",
            "Epoch: 12, Batch: 500 - Loss: 0.27298\n",
            "Validation accuracy 88.05 %\n",
            "Epoch: 13, Batch: 500 - Loss: 0.26737\n",
            "Validation accuracy 88.57 %\n",
            "Epoch: 14, Batch: 500 - Loss: 0.26032\n",
            "Validation accuracy 87.40 %\n",
            "Epoch: 15, Batch: 500 - Loss: 0.25995\n",
            "Validation accuracy 88.05 %\n",
            "Test set accuracy 87.21 %\n"
          ]
        }
      ],
      "source": [
        "import torch.optim as optim\n",
        "\n",
        "LEARNING_RATE = 0.005\n",
        "\n",
        "ff_model = FeedForwardModel2(number_classes=10).to(DEVICE)\n",
        "criterion = nn.CrossEntropyLoss().to(DEVICE)\n",
        "ff_optimizer = optim.SGD(ff_model.parameters(), lr=LEARNING_RATE, momentum=0.9)\n",
        "\n",
        "# Usando las funciones definidas arriba entrenar un modelo es trivial\n",
        "\n",
        "ff_model = train_model(ff_model, train_loader, val_loader, loss_func=criterion, optimizer=ff_optimizer, epochs=15)\n",
        "test_model(ff_model, test_loader)"
      ]
    },
    {
      "cell_type": "code",
      "source": [
        "import torch.optim as optim\n",
        "\n",
        "LEARNING_RATE = 0.001\n",
        "\n",
        "ff_model = FeedForwardModel2(number_classes=10).to(DEVICE)\n",
        "criterion = nn.CrossEntropyLoss().to(DEVICE)\n",
        "ff_optimizer = optim.SGD(ff_model.parameters(), lr=LEARNING_RATE, momentum=0.9)\n",
        "\n",
        "# Usando las funciones definidas arriba entrenar un modelo es trivial\n",
        "\n",
        "ff_model = train_model(ff_model, train_loader, val_loader, loss_func=criterion, optimizer=ff_optimizer, epochs=15)\n",
        "test_model(ff_model, test_loader)"
      ],
      "metadata": {
        "colab": {
          "base_uri": "https://localhost:8080/"
        },
        "id": "27boZykiiasv",
        "outputId": "8ed55c65-a2e4-4b16-cfe2-413d5e15b8c1"
      },
      "execution_count": 35,
      "outputs": [
        {
          "output_type": "stream",
          "name": "stdout",
          "text": [
            "Epoch: 1, Batch: 500 - Loss: 2.23489\n",
            "Validation accuracy 51.24 %\n",
            "Epoch: 2, Batch: 500 - Loss: 1.06285\n",
            "Validation accuracy 68.54 %\n",
            "Epoch: 3, Batch: 500 - Loss: 0.76936\n",
            "Validation accuracy 75.14 %\n",
            "Epoch: 4, Batch: 500 - Loss: 0.65753\n",
            "Validation accuracy 78.60 %\n",
            "Epoch: 5, Batch: 500 - Loss: 0.59414\n",
            "Validation accuracy 79.80 %\n",
            "Epoch: 6, Batch: 500 - Loss: 0.54801\n",
            "Validation accuracy 81.51 %\n",
            "Epoch: 7, Batch: 500 - Loss: 0.50959\n",
            "Validation accuracy 83.01 %\n",
            "Epoch: 8, Batch: 500 - Loss: 0.48300\n",
            "Validation accuracy 83.58 %\n",
            "Epoch: 9, Batch: 500 - Loss: 0.46539\n",
            "Validation accuracy 83.70 %\n",
            "Epoch: 10, Batch: 500 - Loss: 0.44738\n",
            "Validation accuracy 84.17 %\n",
            "Epoch: 11, Batch: 500 - Loss: 0.43123\n",
            "Validation accuracy 84.81 %\n",
            "Epoch: 12, Batch: 500 - Loss: 0.42015\n",
            "Validation accuracy 84.83 %\n",
            "Epoch: 13, Batch: 500 - Loss: 0.41168\n",
            "Validation accuracy 85.06 %\n",
            "Epoch: 14, Batch: 500 - Loss: 0.40798\n",
            "Validation accuracy 85.54 %\n",
            "Epoch: 15, Batch: 500 - Loss: 0.39111\n",
            "Validation accuracy 85.25 %\n",
            "Test set accuracy 84.25 %\n"
          ]
        }
      ]
    },
    {
      "cell_type": "markdown",
      "metadata": {
        "id": "Ef29nSSqwzaU"
      },
      "source": [
        "# Redes Convolucionales\n",
        "\n",
        "\n",
        "![Image](https://www.unite.ai/wp-content/uploads/2019/12/Typical_cnn-1.png)\n",
        "\n",
        "\n",
        "Las redes convolucionales (CNNs) se basan en el uso de una tecnica muy usada en el campo de computer vision tradicional, las **convoluciones** (https://en.wikipedia.org/wiki/Kernel_(image_processing), la idea es crear un filtro pequeño que pasamos por encima de toda la imagen y nos permite detectar distintos elementos (como son líneas verticales, horizontales, diagonales, circulos, etc). EL gran problema de las convoluciones es que para crear dichos filtros debemos poder especificar distintos valores (pesos) para cada región en el mismo. \n",
        "\n",
        "Cada filtro (tambien conocido como kernel) nos permite identificar algo en particular en la imágen, y aplicar un filtro al resultado de otro (u otros) nos permite obtener informacion de más alto nivel (como por ejemplo detectar ojos, ruedas, puertas, etc).\n",
        "\n",
        "![Image](https://d2l.ai/_images/correlation.svg)\n",
        "\n",
        "***\n",
        "\n",
        "Las redes convolucionales nos dan una manera de no sólo aprender los vaores óptimos para dichos filtros (mediante backprop) sino tambien la posibilidad de hacerlo a escala usndo un número arbitrario de los mismos. Una gran ventaja que nos trae el uso de filtros, es el hecho de que requieren de un número muy chico de pesos a entrenar, lo que reduce el tamaño de nuestra red y nos permite entrenar mas rápido (o redes mas grandes y profundas con el mismo hardware).\n",
        "\n",
        "Una cosa a notar en las redes convolucionales es el hecho de que las imágenes se van reduciendo en su tamaño a medida que fluyen por la red, esto se debe a la opeación de `maxpooling` que toma regiones (por lo general de 2x2) en nuestra imagen y se queda con el valor más alto en la zona, reduciendo asi el tamaño de la imagen. El resultado de aplicar un filtro de convolución a una imagen se llama `feature_map` y se puede pensar como otra imagen que describe la características de la original. \n",
        "\n",
        "***\n",
        "\n",
        "Al final de nuestra red, necesitamos formar una predicción de la clase de nuestra imagen, por lo que tenemos que \"achatar\" estos feature maps y pasarlos por una (o varias) capas lineales que generen una predicción. Esto se puede ver como representar toda la informacion que conocemos de la imagen, como por ejemplo si tiene nariz, orejas, pelo, en un sólo vector; y decidir que ese vector representa a un perro.\n",
        "\n",
        "***\n",
        "\n",
        "Para empezar, volvemos a definir nuestros conjuntos de datos. Esta vez, sin hacer uso de ninguna transformacion sobre la imagen (mas que transformarla en un tensor)."
      ]
    },
    {
      "cell_type": "code",
      "execution_count": 36,
      "metadata": {
        "id": "P9ZyMqnQwzaV"
      },
      "outputs": [],
      "source": [
        "import torchvision.transforms as transforms\n",
        "\n",
        "# Descargamos los datasets\n",
        "mnist_train_dataset = dsets.FashionMNIST(\"ruta_donde_guardar_datos\", download=True, train=True, transform=transforms.ToTensor())\n",
        "\n",
        "# Separamos el train set en train y validation\n",
        "train_set, val_set = torch.utils.data.random_split(mnist_train_dataset, [int(0.8 * len(mnist_train_dataset)), int(0.2 * len(mnist_train_dataset))])\n",
        "\n",
        "mnist_test_dataset = dsets.FashionMNIST(\"ruta_donde_guardar_datos\", download=True, train=False, transform=transforms.ToTensor())\n",
        "\n",
        "# Creamos objetos DataLoader (https://pytorch.org/docs/stable/data.html) que nos va a permitir crear batches de data automaticamente.\n",
        "\n",
        "# Cuantas imagenes obtener en cada iteracion!\n",
        "BATCH_SIZE = 64\n",
        "\n",
        "# Creamos los loaders\n",
        "train_loader = torch.utils.data.DataLoader(train_set, batch_size=BATCH_SIZE, shuffle=True, num_workers=2)\n",
        "val_loader = torch.utils.data.DataLoader(val_set, batch_size=BATCH_SIZE, shuffle=False, num_workers=2)\n",
        "\n",
        "test_loader = torch.utils.data.DataLoader(mnist_test_dataset, batch_size=BATCH_SIZE, shuffle=False, num_workers=2)"
      ]
    },
    {
      "cell_type": "markdown",
      "metadata": {
        "id": "8ziZzhHuwzaV"
      },
      "source": [
        "### Modelo Convolucional\n",
        "\n",
        "Igual que con el modelo FeedForward, para crear un modelo usando convoluciones necesitamos crear una clase, definir los metodos **init** y **forward** y especificar la arcquitectura y comportamiento de los componentes del modelo. \n",
        "\n",
        "En particular vamos a usar:\n",
        "\n",
        "- capas convolucionales de 2D (https://pytorch.org/docs/stable/nn.html#conv2d) a las que tenemos que especificarles la cantidad de canales de entrada (1 para gris, 3 para color y X para el resultado de un filtro anterior), una cantidad de filtros a usar (out_channels), el tamaño de los mismos (kernel_size) y si aplicamos padding (relleno) o no (esto nos permite hacer convoluciones que no modifiquen el tamaño original de las imagenes). \n",
        "\n",
        "- Capas de maxpooling (https://pytorch.org/docs/stable/nn.html#maxpool2d) a las que tenemos que decirles el tamaño de la ventana a mirar y el largo del paso que deben tomar (stride).\n",
        "\n",
        "- Finalmente tambien haremos uso de capas lineales y ReLUs como hicimos anteriormente."
      ]
    },
    {
      "cell_type": "code",
      "execution_count": 37,
      "metadata": {
        "id": "pZyHLCAQwzaV"
      },
      "outputs": [],
      "source": [
        "class ConvolutionalModel(nn.Module):\n",
        "    def __init__(self, number_classes):\n",
        "        super().__init__()\n",
        "        self.conv1 = nn.Conv2d(in_channels=1, out_channels=16, kernel_size=3, padding=1) # kernel_size el tamaño de la matriz que arrastro sobre la imagen. padding agrega valores en las esquinas para que entre el kernel y no nos quite filas y columnas, es decir no cambie el tamaño de la imagen. \n",
        "        self.conv2 = nn.Conv2d(in_channels=16, out_channels=8, kernel_size=3, padding=1)\n",
        "        \n",
        "        self.pooling_layer = nn.MaxPool2d(kernel_size=2, stride=2)   # Regiones de 2x2 con paso 2.\n",
        "        \n",
        "        # Nuestras imagenes son de 28x28 y vamos a aplicar 2 veces la capa de pooling\n",
        "        # por lo que el resultado es de tamaño 7x7 (28 / 2 / 2).\n",
        "        # El 16 es porque terminamos con 16 feature maps de 7x7\n",
        "        \n",
        "        self.fc1 = nn.Linear(in_features=7*7*8, out_features=128) # Imagenes de 7*7 con 8 canales. El 128 es porque queda bien, se podria cambiar. \n",
        "        \n",
        "        self.output = nn.Linear(in_features=128, out_features=number_classes)\n",
        "        \n",
        "\n",
        "    def forward(self, new_input):\n",
        "        result = self.conv1(new_input)\n",
        "        result = F.relu(self.pooling_layer(result))\n",
        "        \n",
        "        result = self.conv2(result)\n",
        "        result = F.relu(self.pooling_layer(result))     \n",
        "        \n",
        "        # \"Achatamos\" los feature maps\n",
        "        result = result.reshape((-1, self.fc1.in_features))\n",
        "        result = F.relu(self.fc1(result))\n",
        "        \n",
        "        return self.output(result)"
      ]
    },
    {
      "cell_type": "code",
      "execution_count": 38,
      "metadata": {
        "colab": {
          "base_uri": "https://localhost:8080/"
        },
        "id": "JlTVOzGwwzaV",
        "outputId": "65a4e6bc-a6fd-46ba-c3e5-29ad3f42cba7"
      },
      "outputs": [
        {
          "output_type": "stream",
          "name": "stdout",
          "text": [
            "Epoch: 1, Batch: 500 - Loss: 0.74725\n",
            "Validation accuracy 85.29 %\n",
            "Epoch: 2, Batch: 500 - Loss: 0.36893\n",
            "Validation accuracy 87.59 %\n",
            "Epoch: 3, Batch: 500 - Loss: 0.31325\n",
            "Validation accuracy 89.14 %\n",
            "Epoch: 4, Batch: 500 - Loss: 0.28548\n",
            "Validation accuracy 89.96 %\n",
            "Epoch: 5, Batch: 500 - Loss: 0.27049\n",
            "Validation accuracy 89.96 %\n",
            "Epoch: 6, Batch: 500 - Loss: 0.25167\n",
            "Validation accuracy 89.45 %\n",
            "Epoch: 7, Batch: 500 - Loss: 0.23855\n",
            "Validation accuracy 90.66 %\n",
            "Epoch: 8, Batch: 500 - Loss: 0.22197\n",
            "Validation accuracy 90.62 %\n",
            "Epoch: 9, Batch: 500 - Loss: 0.21201\n",
            "Validation accuracy 90.13 %\n",
            "Epoch: 10, Batch: 500 - Loss: 0.20491\n",
            "Validation accuracy 90.45 %\n",
            "Test set accuracy 89.71 %\n"
          ]
        }
      ],
      "source": [
        "conv_model = ConvolutionalModel(number_classes=10).to(DEVICE)\n",
        "\n",
        "LEARNING_RATE = 0.03\n",
        "\n",
        "criterion = nn.CrossEntropyLoss().to(DEVICE)\n",
        "conv_optimizer = optim.SGD(conv_model.parameters(), lr=LEARNING_RATE, momentum=0.9)\n",
        "\n",
        "conv_model = train_model(conv_model, train_loader, val_loader, loss_func=criterion, optimizer=conv_optimizer, epochs=10)\n",
        "test_model(conv_model, test_loader)"
      ]
    },
    {
      "cell_type": "code",
      "source": [
        "!pip install torchsummary"
      ],
      "metadata": {
        "colab": {
          "base_uri": "https://localhost:8080/"
        },
        "id": "UMfSbaWRFfd_",
        "outputId": "cce37a9b-f02f-46ce-a154-14619db8d267"
      },
      "execution_count": 39,
      "outputs": [
        {
          "output_type": "stream",
          "name": "stdout",
          "text": [
            "Looking in indexes: https://pypi.org/simple, https://us-python.pkg.dev/colab-wheels/public/simple/\n",
            "Requirement already satisfied: torchsummary in /usr/local/lib/python3.10/dist-packages (1.5.1)\n"
          ]
        }
      ]
    },
    {
      "cell_type": "code",
      "source": [
        "from torchsummary import summary"
      ],
      "metadata": {
        "id": "YSrz09raFi7y"
      },
      "execution_count": 40,
      "outputs": []
    },
    {
      "cell_type": "code",
      "source": [
        "summary(conv_model,(1,28,28))"
      ],
      "metadata": {
        "colab": {
          "base_uri": "https://localhost:8080/"
        },
        "id": "NVCHwZqhFmqg",
        "outputId": "61d3aa07-049d-4eae-990d-09b68c35114a"
      },
      "execution_count": 41,
      "outputs": [
        {
          "output_type": "stream",
          "name": "stdout",
          "text": [
            "----------------------------------------------------------------\n",
            "        Layer (type)               Output Shape         Param #\n",
            "================================================================\n",
            "            Conv2d-1           [-1, 16, 28, 28]             160\n",
            "         MaxPool2d-2           [-1, 16, 14, 14]               0\n",
            "            Conv2d-3            [-1, 8, 14, 14]           1,160\n",
            "         MaxPool2d-4              [-1, 8, 7, 7]               0\n",
            "            Linear-5                  [-1, 128]          50,304\n",
            "            Linear-6                   [-1, 10]           1,290\n",
            "================================================================\n",
            "Total params: 52,914\n",
            "Trainable params: 52,914\n",
            "Non-trainable params: 0\n",
            "----------------------------------------------------------------\n",
            "Input size (MB): 0.00\n",
            "Forward/backward pass size (MB): 0.14\n",
            "Params size (MB): 0.20\n",
            "Estimated Total Size (MB): 0.34\n",
            "----------------------------------------------------------------\n"
          ]
        }
      ]
    },
    {
      "cell_type": "code",
      "source": [
        "summary(ff_model,(1*28*28,))"
      ],
      "metadata": {
        "colab": {
          "base_uri": "https://localhost:8080/"
        },
        "id": "6bm01idJFrko",
        "outputId": "2b07e25f-e86d-4cbc-9b22-7d530a57fb1e"
      },
      "execution_count": 42,
      "outputs": [
        {
          "output_type": "stream",
          "name": "stdout",
          "text": [
            "----------------------------------------------------------------\n",
            "        Layer (type)               Output Shape         Param #\n",
            "================================================================\n",
            "            Linear-1                  [-1, 392]         307,720\n",
            "            Linear-2                  [-1, 128]          50,304\n",
            "            Linear-3                   [-1, 64]           8,256\n",
            "            Linear-4                   [-1, 10]             650\n",
            "================================================================\n",
            "Total params: 366,930\n",
            "Trainable params: 366,930\n",
            "Non-trainable params: 0\n",
            "----------------------------------------------------------------\n",
            "Input size (MB): 0.00\n",
            "Forward/backward pass size (MB): 0.00\n",
            "Params size (MB): 1.40\n",
            "Estimated Total Size (MB): 1.41\n",
            "----------------------------------------------------------------\n"
          ]
        }
      ]
    },
    {
      "cell_type": "markdown",
      "metadata": {
        "id": "W5nIegzawzaV"
      },
      "source": [
        "## Tarea 2\n",
        "\n",
        "Cree y entrene un modelo de red Convolucional que funcione mejor que el visto en clase. Puede usar lo que considere necesario."
      ]
    },
    {
      "cell_type": "markdown",
      "source": [
        "**Modificar esto de abajo:**"
      ],
      "metadata": {
        "id": "7gqwphlhElet"
      }
    },
    {
      "cell_type": "code",
      "source": [],
      "metadata": {
        "id": "QK3gNOCM6XMO"
      },
      "execution_count": 58,
      "outputs": []
    },
    {
      "cell_type": "code",
      "execution_count": 59,
      "metadata": {
        "id": "_qaMBLtJwzaW"
      },
      "outputs": [],
      "source": [
        "class ConvolutionalModel(nn.Module):\n",
        "    def __init__(self, number_classes):\n",
        "        super().__init__()\n",
        "        self.conv1 = nn.Conv2d(in_channels=1, out_channels=16, kernel_size=3, padding=1) # kernel_size el tamaño de la matriz que arrastro sobre la imagen. padding agrega valores en las esquinas para que entre el kernel y no nos quite filas y columnas, es decir no cambie el tamaño de la imagen. \n",
        "        self.conv2 = nn.Conv2d(in_channels=16, out_channels=8, kernel_size=3, padding=1)\n",
        "        \n",
        "        self.pooling_layer = nn.MaxPool2d(kernel_size=2, stride=2)   # Regiones de 2x2 con paso 2.\n",
        "        \n",
        "        # Nuestras imagenes son de 28x28 y vamos a aplicar 2 veces la capa de pooling\n",
        "        # por lo que el resultado es de tamaño 7x7 (28 / 2 / 2).\n",
        "        # El 16 es porque terminamos con 16 feature maps de 7x7\n",
        "        \n",
        "        self.fc1 = nn.Linear(in_features=7*7*8, out_features=64) # Imagenes de 7*7 con 8 canales. El 128 es porque queda bien, se podria cambiar. \n",
        "        \n",
        "        self.output = nn.Linear(in_features=64, out_features=number_classes)\n",
        "        \n",
        "\n",
        "    def forward(self, new_input):\n",
        "        result = self.conv1(new_input)\n",
        "        result = F.relu(self.pooling_layer(result))\n",
        "        \n",
        "        result = self.conv2(result)\n",
        "        result = F.relu(self.pooling_layer(result))     \n",
        "        \n",
        "        # \"Achatamos\" los feature maps\n",
        "        result = result.reshape((-1, self.fc1.in_features))\n",
        "        result = F.relu(self.fc1(result))\n",
        "\n",
        "        return self.output(result)"
      ]
    },
    {
      "cell_type": "code",
      "source": [
        "conv_model = ConvolutionalModel(number_classes=10).to(DEVICE)\n",
        "\n",
        "LEARNING_RATE = 0.03\n",
        "\n",
        "criterion = nn.CrossEntropyLoss().to(DEVICE)\n",
        "conv_optimizer = optim.SGD(conv_model.parameters(), lr=LEARNING_RATE, momentum=0.9)\n",
        "\n",
        "conv_model = train_model(conv_model, train_loader, val_loader, loss_func=criterion, optimizer=conv_optimizer, epochs=10)\n",
        "test_model(conv_model, test_loader)"
      ],
      "metadata": {
        "id": "43rtcv3kEcHh",
        "colab": {
          "base_uri": "https://localhost:8080/"
        },
        "outputId": "2f589c1f-395f-4504-e2f9-4e62858c3a36"
      },
      "execution_count": 60,
      "outputs": [
        {
          "output_type": "stream",
          "name": "stdout",
          "text": [
            "Epoch: 1, Batch: 500 - Loss: 0.68366\n",
            "Validation accuracy 86.43 %\n",
            "Epoch: 2, Batch: 500 - Loss: 0.36471\n",
            "Validation accuracy 87.81 %\n",
            "Epoch: 3, Batch: 500 - Loss: 0.31443\n",
            "Validation accuracy 88.46 %\n",
            "Epoch: 4, Batch: 500 - Loss: 0.29405\n",
            "Validation accuracy 88.96 %\n",
            "Epoch: 5, Batch: 500 - Loss: 0.26948\n",
            "Validation accuracy 88.56 %\n",
            "Epoch: 6, Batch: 500 - Loss: 0.26007\n",
            "Validation accuracy 89.50 %\n",
            "Epoch: 7, Batch: 500 - Loss: 0.24634\n",
            "Validation accuracy 89.04 %\n",
            "Epoch: 8, Batch: 500 - Loss: 0.23840\n",
            "Validation accuracy 90.08 %\n",
            "Epoch: 9, Batch: 500 - Loss: 0.22709\n",
            "Validation accuracy 89.03 %\n",
            "Epoch: 10, Batch: 500 - Loss: 0.22352\n",
            "Validation accuracy 89.77 %\n",
            "Test set accuracy 89.05 %\n"
          ]
        }
      ]
    },
    {
      "cell_type": "code",
      "execution_count": 48,
      "metadata": {
        "id": "X5chIYzNwzaW",
        "colab": {
          "base_uri": "https://localhost:8080/"
        },
        "outputId": "c6aa76cb-f17d-43c4-f324-bdafc14a3cce"
      },
      "outputs": [
        {
          "output_type": "stream",
          "name": "stdout",
          "text": [
            "Epoch: 1, Batch: 500 - Loss: 0.89435\n",
            "Validation accuracy 81.25 %\n",
            "Epoch: 2, Batch: 500 - Loss: 0.45540\n",
            "Validation accuracy 85.62 %\n",
            "Epoch: 3, Batch: 500 - Loss: 0.38156\n",
            "Validation accuracy 87.31 %\n",
            "Epoch: 4, Batch: 500 - Loss: 0.35223\n",
            "Validation accuracy 87.62 %\n",
            "Epoch: 5, Batch: 500 - Loss: 0.31362\n",
            "Validation accuracy 88.33 %\n",
            "Epoch: 6, Batch: 500 - Loss: 0.29501\n",
            "Validation accuracy 88.53 %\n",
            "Epoch: 7, Batch: 500 - Loss: 0.27681\n",
            "Validation accuracy 88.87 %\n",
            "Epoch: 8, Batch: 500 - Loss: 0.26409\n",
            "Validation accuracy 89.72 %\n",
            "Epoch: 9, Batch: 500 - Loss: 0.25528\n",
            "Validation accuracy 89.72 %\n",
            "Epoch: 10, Batch: 500 - Loss: 0.24294\n",
            "Validation accuracy 90.05 %\n",
            "Test set accuracy 89.60 %\n"
          ]
        }
      ],
      "source": [
        "conv_model = ConvolutionalModel(number_classes=10).to(DEVICE)\n",
        "\n",
        "LEARNING_RATE = 0.01\n",
        "\n",
        "criterion = nn.CrossEntropyLoss().to(DEVICE)\n",
        "conv_optimizer = optim.SGD(conv_model.parameters(), lr=LEARNING_RATE, momentum=0.9)\n",
        "\n",
        "conv_model = train_model(conv_model, train_loader, val_loader, loss_func=criterion, optimizer=conv_optimizer, epochs=10)\n",
        "test_model(conv_model, test_loader)"
      ]
    },
    {
      "cell_type": "code",
      "execution_count": 49,
      "metadata": {
        "id": "hda421LbwzaW",
        "colab": {
          "base_uri": "https://localhost:8080/"
        },
        "outputId": "c81808fd-509b-40a2-a4cc-6573d0ef8313"
      },
      "outputs": [
        {
          "output_type": "stream",
          "name": "stdout",
          "text": [
            "Epoch: 1, Batch: 500 - Loss: 0.69409\n",
            "Validation accuracy 84.51 %\n",
            "Epoch: 2, Batch: 500 - Loss: 0.40213\n",
            "Validation accuracy 85.73 %\n",
            "Epoch: 3, Batch: 500 - Loss: 0.35558\n",
            "Validation accuracy 85.31 %\n",
            "Epoch: 4, Batch: 500 - Loss: 0.33115\n",
            "Validation accuracy 87.13 %\n",
            "Epoch: 5, Batch: 500 - Loss: 0.31591\n",
            "Validation accuracy 87.87 %\n",
            "Epoch: 6, Batch: 500 - Loss: 0.29288\n",
            "Validation accuracy 88.62 %\n",
            "Epoch: 7, Batch: 500 - Loss: 0.28754\n",
            "Validation accuracy 88.65 %\n",
            "Epoch: 8, Batch: 500 - Loss: 0.27197\n",
            "Validation accuracy 88.63 %\n",
            "Epoch: 9, Batch: 500 - Loss: 0.26025\n",
            "Validation accuracy 88.16 %\n",
            "Epoch: 10, Batch: 500 - Loss: 0.24437\n",
            "Validation accuracy 88.83 %\n",
            "Test set accuracy 88.16 %\n"
          ]
        }
      ],
      "source": [
        "conv_model = ConvolutionalModel(number_classes=10).to(DEVICE)\n",
        "\n",
        "LEARNING_RATE = 0.05\n",
        "\n",
        "criterion = nn.CrossEntropyLoss().to(DEVICE)\n",
        "conv_optimizer = optim.SGD(conv_model.parameters(), lr=LEARNING_RATE, momentum=0.9)\n",
        "\n",
        "conv_model = train_model(conv_model, train_loader, val_loader, loss_func=criterion, optimizer=conv_optimizer, epochs=10)\n",
        "test_model(conv_model, test_loader)"
      ]
    },
    {
      "cell_type": "code",
      "source": [
        "conv_model = ConvolutionalModel(number_classes=10).to(DEVICE)\n",
        "\n",
        "LEARNING_RATE = 0.03\n",
        "\n",
        "criterion = nn.CrossEntropyLoss().to(DEVICE)\n",
        "conv_optimizer = optim.SGD(conv_model.parameters(), lr=LEARNING_RATE, momentum=0.8)\n",
        "\n",
        "conv_model = train_model(conv_model, train_loader, val_loader, loss_func=criterion, optimizer=conv_optimizer, epochs=10)\n",
        "test_model(conv_model, test_loader)"
      ],
      "metadata": {
        "colab": {
          "base_uri": "https://localhost:8080/"
        },
        "id": "zzGZqCtB2NRh",
        "outputId": "a4598222-c607-4b3b-cded-0b9a1e255893"
      },
      "execution_count": 50,
      "outputs": [
        {
          "output_type": "stream",
          "name": "stdout",
          "text": [
            "Epoch: 1, Batch: 500 - Loss: 0.79963\n",
            "Validation accuracy 83.16 %\n",
            "Epoch: 2, Batch: 500 - Loss: 0.43362\n",
            "Validation accuracy 86.11 %\n",
            "Epoch: 3, Batch: 500 - Loss: 0.35876\n",
            "Validation accuracy 86.74 %\n",
            "Epoch: 4, Batch: 500 - Loss: 0.32361\n",
            "Validation accuracy 88.52 %\n",
            "Epoch: 5, Batch: 500 - Loss: 0.30056\n",
            "Validation accuracy 88.72 %\n",
            "Epoch: 6, Batch: 500 - Loss: 0.28567\n",
            "Validation accuracy 88.88 %\n",
            "Epoch: 7, Batch: 500 - Loss: 0.26925\n",
            "Validation accuracy 89.59 %\n",
            "Epoch: 8, Batch: 500 - Loss: 0.25706\n",
            "Validation accuracy 89.79 %\n",
            "Epoch: 9, Batch: 500 - Loss: 0.24350\n",
            "Validation accuracy 89.47 %\n",
            "Epoch: 10, Batch: 500 - Loss: 0.24346\n",
            "Validation accuracy 90.35 %\n",
            "Test set accuracy 89.77 %\n"
          ]
        }
      ]
    },
    {
      "cell_type": "code",
      "source": [
        "\n",
        "class ConvolutionalModel(nn.Module):\n",
        "    def __init__(self, number_classes):\n",
        "        super().__init__()\n",
        "        self.conv1 = nn.Conv2d(in_channels=1, out_channels=16, kernel_size=3, padding=1) # kernel_size el tamaño de la matriz que arrastro sobre la imagen. padding agrega valores en las esquinas para que entre el kernel y no nos quite filas y columnas, es decir no cambie el tamaño de la imagen. \n",
        "        self.conv2 = nn.Conv2d(in_channels=16, out_channels=8, kernel_size=3, padding=1)\n",
        "        \n",
        "        self.pooling_layer = nn.MaxPool2d(kernel_size=2, stride=2)   # Regiones de 2x2 con paso 2.\n",
        "        \n",
        "        # Nuestras imagenes son de 28x28 y vamos a aplicar 1 veces la capa de pooling\n",
        "        # por lo que el resultado es de tamaño 7x7 (28 / 2 ).\n",
        "        # El 16 es porque terminamos con 16 feature maps de 7x7\n",
        "        \n",
        "        self.fc1 = nn.Linear(in_features=14*14*8, out_features=64) # Imagenes de 7*7 con 8 canales. El 128 es porque queda bien, se podria cambiar. \n",
        "        \n",
        "        self.output = nn.Linear(in_features=64, out_features=number_classes)\n",
        "        \n",
        "\n",
        "    def forward(self, new_input):\n",
        "        result = self.conv1(new_input)\n",
        "        result = F.relu(self.pooling_layer(result))\n",
        "        \n",
        "        # \"Achatamos\" los feature maps\n",
        "        result = result.reshape((-1, self.fc1.in_features))\n",
        "        result = F.relu(self.fc1(result))\n",
        "\n",
        "        return self.output(result)"
      ],
      "metadata": {
        "id": "cJ2CK5vB2RBZ"
      },
      "execution_count": 56,
      "outputs": []
    },
    {
      "cell_type": "code",
      "source": [
        "conv_model = ConvolutionalModel(number_classes=10).to(DEVICE)\n",
        "\n",
        "BATCH_SIZE = 128\n",
        "\n",
        "LEARNING_RATE = 0.03\n",
        "\n",
        "criterion = nn.CrossEntropyLoss().to(DEVICE)\n",
        "conv_optimizer = optim.SGD(conv_model.parameters(), lr=LEARNING_RATE, momentum=0.9)\n",
        "\n",
        "conv_model = train_model(conv_model, train_loader, val_loader, loss_func=criterion, optimizer=conv_optimizer, epochs=10)\n",
        "test_model(conv_model, test_loader)"
      ],
      "metadata": {
        "colab": {
          "base_uri": "https://localhost:8080/"
        },
        "id": "gXOlzaRR7KcI",
        "outputId": "aa7fd355-65a9-41ab-8658-58e5057cacda"
      },
      "execution_count": 61,
      "outputs": [
        {
          "output_type": "stream",
          "name": "stdout",
          "text": [
            "Epoch: 1, Batch: 500 - Loss: 0.67814\n",
            "Validation accuracy 85.24 %\n",
            "Epoch: 2, Batch: 500 - Loss: 0.36029\n",
            "Validation accuracy 88.16 %\n",
            "Epoch: 3, Batch: 500 - Loss: 0.30347\n",
            "Validation accuracy 89.41 %\n",
            "Epoch: 4, Batch: 500 - Loss: 0.27304\n",
            "Validation accuracy 89.65 %\n",
            "Epoch: 5, Batch: 500 - Loss: 0.26676\n",
            "Validation accuracy 88.73 %\n",
            "Epoch: 6, Batch: 500 - Loss: 0.25640\n",
            "Validation accuracy 90.42 %\n",
            "Epoch: 7, Batch: 500 - Loss: 0.23810\n",
            "Validation accuracy 90.31 %\n",
            "Epoch: 8, Batch: 500 - Loss: 0.22834\n",
            "Validation accuracy 89.63 %\n",
            "Epoch: 9, Batch: 500 - Loss: 0.21988\n",
            "Validation accuracy 90.50 %\n",
            "Epoch: 10, Batch: 500 - Loss: 0.21703\n",
            "Validation accuracy 89.49 %\n",
            "Test set accuracy 88.98 %\n"
          ]
        }
      ]
    },
    {
      "cell_type": "code",
      "source": [],
      "metadata": {
        "id": "tH8QBHhG96p5"
      },
      "execution_count": null,
      "outputs": []
    }
  ],
  "metadata": {
    "accelerator": "GPU",
    "colab": {
      "provenance": []
    },
    "kernelspec": {
      "display_name": "Python 3",
      "language": "python",
      "name": "python3"
    },
    "language_info": {
      "codemirror_mode": {
        "name": "ipython",
        "version": 3
      },
      "file_extension": ".py",
      "mimetype": "text/x-python",
      "name": "python",
      "nbconvert_exporter": "python",
      "pygments_lexer": "ipython3",
      "version": "3.10.9"
    },
    "gpuClass": "standard"
  },
  "nbformat": 4,
  "nbformat_minor": 0
}